{
 "cells": [
  {
   "cell_type": "markdown",
   "metadata": {},
   "source": [
    "Primality test: Determine if an input number is prime\n",
    "\n",
    "There are different types of tests to try\n",
    "\n",
    "I. Trial division:\n",
    "\n",
    "    -Given an input number n, chekc whether any\n",
    "    prime integer from 2 to sqrt(n) eveny divides n\n",
    "    \n",
    "    -We can generalize to a  program that gives the prime factorization of a given input\n",
    "    "
   ]
  },
  {
   "cell_type": "code",
   "execution_count": 1,
   "metadata": {},
   "outputs": [],
   "source": [
    "def prime_factor(n):\n",
    "    '''return a list of the prime factors for a natural number'''\n",
    "    a=[]                   #holds onto the final factors\n",
    "    f=2                    #first factor to check\n",
    "    while n >1:            #while n still has a remainding factor\n",
    "        if (n%f == 0):     #check if the remainder of n divided by f is zero\n",
    "            a.append(f)    #if f divdes n, add f to the list\n",
    "            n/=f           #divide n by f\n",
    "        else:\n",
    "            f+=1\n",
    "    return a\n",
    "        "
   ]
  },
  {
   "cell_type": "code",
   "execution_count": 2,
   "metadata": {},
   "outputs": [
    {
     "data": {
      "text/plain": [
       "[3, 3, 223]"
      ]
     },
     "execution_count": 2,
     "metadata": {},
     "output_type": "execute_result"
    }
   ],
   "source": [
    "prime_factor(2007)"
   ]
  },
  {
   "cell_type": "markdown",
   "metadata": {},
   "source": [
    "II. Fermat prime test:\n",
    "\n",
    "    If n is a prime number and a is a number that is coprime to n, then\n",
    "    \n",
    "        a^(n-1) mod n = 1\n",
    "        \n",
    "    Example: check if n=221 is composite or prime\n",
    "    \n",
    "        -let a=38 => a^(n-1) mod n 38^220 mod 221"
   ]
  },
  {
   "cell_type": "code",
   "execution_count": 3,
   "metadata": {},
   "outputs": [
    {
     "data": {
      "text/plain": [
       "1"
      ]
     },
     "execution_count": 3,
     "metadata": {},
     "output_type": "execute_result"
    }
   ],
   "source": [
    "(38**220)%221"
   ]
  },
  {
   "cell_type": "code",
   "execution_count": 4,
   "metadata": {},
   "outputs": [
    {
     "data": {
      "text/plain": [
       "81"
      ]
     },
     "execution_count": 4,
     "metadata": {},
     "output_type": "execute_result"
    }
   ],
   "source": [
    "#let a=24\n",
    "(24**220)%221 # == 81, so n is a composite number"
   ]
  },
  {
   "cell_type": "markdown",
   "metadata": {},
   "source": [
    "Steps:\n",
    "\n",
    "    pick a random a not divisible by n\n",
    "    \n",
    "        (1<a<n-1)\n",
    "    \n",
    "    calculate the equality to see if it holds\n",
    "    \n",
    "    if it does not then n is a composite number\n",
    "    \n",
    "    *consider running this more than 1 time"
   ]
  },
  {
   "cell_type": "code",
   "execution_count": 5,
   "metadata": {},
   "outputs": [],
   "source": [
    "def fermat_test(n,k):\n",
    "    '''return False if the number is a composite and True if the number is probably prime'''\n",
    "    import random\n",
    "    if n==2:            #Base case, n is 2\n",
    "        return True\n",
    "    if n%2==0:          #Base case, n is even\n",
    "        return False\n",
    "    for i in range(k):\n",
    "        a = random.randint(1,n-1)   #create a random integer\n",
    "        if (a**(n-1))%n != 1:       #test\n",
    "            return False\n",
    "    return True"
   ]
  },
  {
   "cell_type": "code",
   "execution_count": 6,
   "metadata": {},
   "outputs": [
    {
     "data": {
      "text/plain": [
       "True"
      ]
     },
     "execution_count": 6,
     "metadata": {},
     "output_type": "execute_result"
    }
   ],
   "source": [
    "fermat_test(311,62)"
   ]
  },
  {
   "cell_type": "markdown",
   "metadata": {},
   "source": [
    "III. Miller-Rabin prime test:\n",
    "\n",
    "    given an integer n, choose some postive integer a<n\n",
    "    \n",
    "    let n-1 = 2^(s)*d, where d is odd\n",
    "    \n",
    "    if a^d mod n  != 1 and a^(2^r)*d) mod n!=n-1 for all 0<=r<=s-1\n",
    "    \n",
    "    then n is composite"
   ]
  },
  {
   "cell_type": "markdown",
   "metadata": {},
   "source": [
    "Example: is n=221 prime?\n",
    "\n",
    "1) n-1 = 220 = (2**2)*55 => s=2; d=55\n",
    "\n",
    "2) pick a such that 1<a<n-1 , say a=174\n",
    "\n",
    "3) compute: (a**d) mod n = 174^(55) mod 221 = 47\n",
    "\n",
    "4) a^(2^1 * d) mod n = 174^(2*55) mod 221 = 220"
   ]
  },
  {
   "cell_type": "code",
   "execution_count": 7,
   "metadata": {},
   "outputs": [
    {
     "data": {
      "text/plain": [
       "220"
      ]
     },
     "execution_count": 7,
     "metadata": {},
     "output_type": "execute_result"
    }
   ],
   "source": [
    "(174**(2*55))%221"
   ]
  },
  {
   "cell_type": "markdown",
   "metadata": {},
   "source": [
    "a is a liar, 221 is prime\n",
    "\n",
    "check again with a = 137 to show that 221 is indeed a composite number"
   ]
  },
  {
   "cell_type": "code",
   "execution_count": 8,
   "metadata": {},
   "outputs": [],
   "source": [
    "def miller_rabin(n,k):\n",
    "    import random\n",
    "    '''return False means n is certainly not prime; True implies n is very likely to be prime'''\n",
    "    if n==2:\n",
    "        return True\n",
    "    if n%2==0:\n",
    "        return False\n",
    "    s=0\n",
    "    d=n-1\n",
    "    \n",
    "    while True:\n",
    "        quotient, remainder=divmod(d,2)   #divides by d by 2, two outputs, quotient and remainder\n",
    "        if remainder==1:\n",
    "            break\n",
    "        s+=1\n",
    "        d= quotient\n",
    "    def try_composite(a):\n",
    "        if a**d % n==1:\n",
    "            return False\n",
    "        for i in range(s):\n",
    "            if (a**(2**i*d))%n==n-1:\n",
    "                return False\n",
    "        return True\n",
    "    for i in range(k):\n",
    "        a=random.randint(1,n)\n",
    "        if try_composite(a):\n",
    "            return False\n",
    "    return True"
   ]
  },
  {
   "cell_type": "code",
   "execution_count": 9,
   "metadata": {},
   "outputs": [
    {
     "data": {
      "text/plain": [
       "False"
      ]
     },
     "execution_count": 9,
     "metadata": {},
     "output_type": "execute_result"
    }
   ],
   "source": [
    "miller_rabin(810,10)"
   ]
  },
  {
   "cell_type": "code",
   "execution_count": 10,
   "metadata": {},
   "outputs": [
    {
     "data": {
      "text/plain": [
       "True"
      ]
     },
     "execution_count": 10,
     "metadata": {},
     "output_type": "execute_result"
    }
   ],
   "source": [
    "miller_rabin(101,10)"
   ]
  }
 ],
 "metadata": {
  "kernelspec": {
   "display_name": "Python 3",
   "language": "python",
   "name": "python3"
  },
  "language_info": {
   "codemirror_mode": {
    "name": "ipython",
    "version": 3
   },
   "file_extension": ".py",
   "mimetype": "text/x-python",
   "name": "python",
   "nbconvert_exporter": "python",
   "pygments_lexer": "ipython3",
   "version": "3.6.5"
  }
 },
 "nbformat": 4,
 "nbformat_minor": 2
}
