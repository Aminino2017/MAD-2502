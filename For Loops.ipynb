{
 "cells": [
  {
   "cell_type": "markdown",
   "metadata": {},
   "source": [
    "forloops: do the following x number of times for i(i is the variable that will be used to go from 0 -> x) in range(#of times) (will repeat for each value for i) will execute the for 0,1,2,...,x for i in range(50):\n",
    "\n",
    "python uses indentiation to decide what block of code will run under another blcok of code"
   ]
  },
  {
   "cell_type": "code",
   "execution_count": 1,
   "metadata": {},
   "outputs": [
    {
     "name": "stdout",
     "output_type": "stream",
     "text": [
      "0\n",
      "1\n",
      "2\n",
      "3\n",
      "4\n",
      "5\n",
      "6\n",
      "7\n",
      "8\n",
      "9\n"
     ]
    }
   ],
   "source": [
    "for i in range(10):    #Add the numbers from 1 to 100\n",
    "    print(i)"
   ]
  },
  {
   "cell_type": "code",
   "execution_count": 4,
   "metadata": {},
   "outputs": [
    {
     "name": "stdout",
     "output_type": "stream",
     "text": [
      "Enter a number: 10\n",
      "Sum from 1 to 10: 0\n",
      "Sum from 1 to 10: 1\n",
      "Sum from 1 to 10: 3\n",
      "Sum from 1 to 10: 6\n",
      "Sum from 1 to 10: 10\n",
      "Sum from 1 to 10: 15\n",
      "Sum from 1 to 10: 21\n",
      "Sum from 1 to 10: 28\n",
      "Sum from 1 to 10: 36\n",
      "Sum from 1 to 10: 45\n",
      "Sum from 1 to 10: 55\n"
     ]
    }
   ],
   "source": [
    "#add integers up to the number you input\n",
    "number=int(input('Enter a number: '))  #int() => convert the user input (which is a string) into a float\n",
    "start=0                                #variable that will hold final result\n",
    "for n in range(number+1):              #go 1 => your number   (index 0->number-1)\n",
    "    start=start+n                      #add new number to prevous number\n",
    "\n",
    "    print ('Sum from 1 to '+str(number)+': '+str(start))"
   ]
  },
  {
   "cell_type": "code",
   "execution_count": null,
   "metadata": {},
   "outputs": [],
   "source": []
  }
 ],
 "metadata": {
  "kernelspec": {
   "display_name": "Python 3",
   "language": "python",
   "name": "python3"
  },
  "language_info": {
   "codemirror_mode": {
    "name": "ipython",
    "version": 3
   },
   "file_extension": ".py",
   "mimetype": "text/x-python",
   "name": "python",
   "nbconvert_exporter": "python",
   "pygments_lexer": "ipython3",
   "version": "3.6.5"
  }
 },
 "nbformat": 4,
 "nbformat_minor": 2
}
