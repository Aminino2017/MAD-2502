{
 "cells": [
  {
   "cell_type": "code",
   "execution_count": 1,
   "metadata": {},
   "outputs": [],
   "source": [
    "def newton(f,dfdx,x0,epsilon):\n",
    "    '''Apply Newton's Method to f with intial guess x0'''\n",
    "    x=x0\n",
    "\n",
    "    while abs(f(x)) > epsilon: #error of my approximation\n",
    "        x = x-f(x)/dfdx(x)\n",
    "        \n",
    "    return x    "
   ]
  },
  {
   "cell_type": "code",
   "execution_count": 2,
   "metadata": {},
   "outputs": [
    {
     "data": {
      "text/plain": [
       "24.738633753766084"
      ]
     },
     "execution_count": 2,
     "metadata": {},
     "output_type": "execute_result"
    }
   ],
   "source": [
    "newton(lambda x:x**2-612,lambda x:2*x,10,0.00001)  #lambda says we will temporarly create a function"
   ]
  },
  {
   "cell_type": "markdown",
   "metadata": {},
   "source": [
    "Sometimes we need a very simple function, with no intenetion to call it multiple times. For this we use lambda expressions:\n",
    "\n",
    "lambda y:y**2\n",
    "\n",
    "a function with one argument squaring its input"
   ]
  },
  {
   "cell_type": "code",
   "execution_count": null,
   "metadata": {},
   "outputs": [],
   "source": []
  }
 ],
 "metadata": {
  "kernelspec": {
   "display_name": "Python 3",
   "language": "python",
   "name": "python3"
  },
  "language_info": {
   "codemirror_mode": {
    "name": "ipython",
    "version": 3
   },
   "file_extension": ".py",
   "mimetype": "text/x-python",
   "name": "python",
   "nbconvert_exporter": "python",
   "pygments_lexer": "ipython3",
   "version": "3.6.5"
  }
 },
 "nbformat": 4,
 "nbformat_minor": 2
}
