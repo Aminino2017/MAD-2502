{
 "cells": [
  {
   "cell_type": "code",
   "execution_count": 3,
   "metadata": {},
   "outputs": [],
   "source": [
    "def add_mat(m1, m2):\n",
    "    '''compute sum of two square matrices'''\n",
    "    dim=len(m1)\n",
    "\n",
    "\n",
    "    m3=[dim*[0] for i in range(dim)]    #creates a matrix with dimenesion of length dim\n",
    "\n",
    "    \n",
    "    for i in range(len(m1)):\n",
    "        for j in range(len(m1)):\n",
    "            m3[i][j] = m2[i][j]+m1[i][j]\n",
    "    return m3\n",
    "\n",
    "def add_mat2(m1,m2):\n",
    "    dim=len(m1)\n",
    "    return [[m2[i][j]+m1[i][j] for j in range(dim)] for i in range(dim)]\n",
    "            "
   ]
  },
  {
   "cell_type": "code",
   "execution_count": 4,
   "metadata": {},
   "outputs": [],
   "source": [
    "#create a function that multiplies two matricies\n",
    "def mult_mat(m1,m2):\n",
    "    row=len(m1)\n",
    "    column=len(m2[0])\n",
    "    m3=[column*[0] for i in range(row)] \n",
    "    \n",
    "    \n",
    "    for r in range(row):\n",
    "        for j in range(col):\n",
    "            for k in range(len(m1[0])):\n",
    "                m3[i][j]= m3[i][j]+(m1[i][k]*m2[k][j])\n",
    "    return m3\n",
    "        \n",
    "#recursion can get this program run faster    "
   ]
  },
  {
   "cell_type": "code",
   "execution_count": null,
   "metadata": {},
   "outputs": [],
   "source": []
  }
 ],
 "metadata": {
  "kernelspec": {
   "display_name": "Python 3",
   "language": "python",
   "name": "python3"
  },
  "language_info": {
   "codemirror_mode": {
    "name": "ipython",
    "version": 3
   },
   "file_extension": ".py",
   "mimetype": "text/x-python",
   "name": "python",
   "nbconvert_exporter": "python",
   "pygments_lexer": "ipython3",
   "version": "3.6.5"
  }
 },
 "nbformat": 4,
 "nbformat_minor": 2
}
