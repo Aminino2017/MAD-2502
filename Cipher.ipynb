{
 "cells": [
  {
   "cell_type": "markdown",
   "metadata": {},
   "source": [
    "Substitution cipher: consist of substituting every plaintext character for a different character example: Plaintext: a b c d e f g h i j k l m n o p q r s t u v w x y z Ciphertext: q w e r t y u i o p a s d f g h j k l z x c v b n m plainttext: defend the east wall of the castle ciphertetx: rtytfr zit tqlz vqss gy zit eqlzst When generating keys, it's popular to use a keyword to generate it because it is easier to remeber a key word compared to ae random junble of 26 characters Ex: key word: zebra => cipher alp: z e b r a c d f g h i j k l m n o p q s t u v w x y if the key word has a repeated number, be careful nto to include repaeted characters"
   ]
  },
  {
   "cell_type": "code",
   "execution_count": 1,
   "metadata": {},
   "outputs": [],
   "source": [
    "def substitution_encrypt(plaintext,key):\n",
    "    alphabet=list('abcdefghijklmnopqrstuvwxyz') #alphabet[0]=a\n",
    "    list_of_key=  list(key)\n",
    "    list_of_plaintext=list(plaintext)\n",
    "    \n",
    "    list_of_ciphertext=[]\n",
    "    \n",
    "    for i in list_of_plaintext:\n",
    "        for j in range(len(alphabet)):\n",
    "            if i == alphabet[j]:\n",
    "                list_of_ciphertext.append(list_of_key[j])\n",
    "    return ''.join(list_of_ciphertext)"
   ]
  },
  {
   "cell_type": "code",
   "execution_count": 2,
   "metadata": {},
   "outputs": [],
   "source": [
    "def substitution_decrypt(ciphertext,key):\n",
    "    alphabet=list('abcdefghijklmnopqrstuvwxyz') #alphabet[0]=a\n",
    "    list_of_key=list(key)\n",
    "    list_of_ciphertext=list(ciphertext)\n",
    "    \n",
    "    list_of_plaintext=[]\n",
    "    \n",
    "    for i in list_of_ciphertext:\n",
    "        for j in range(len(list_of_key)):\n",
    "            if i == list_of_key[j]:\n",
    "                list_of_plaintext.append(alphabet[j])\n",
    "    return ''.join(list_of_plaintext)"
   ]
  },
  {
   "cell_type": "markdown",
   "metadata": {},
   "source": [
    "Frequency analysis: -26 letters in teh English alphabet -They don't appear an equal amount of the time in Engish text -Some letters are more often than others -ETAOIN are most frequent letterss -The technique of counting letters & how frequently they appear in both plantext & ciphertext is called frequency analysis"
   ]
  }
 ],
 "metadata": {
  "kernelspec": {
   "display_name": "Python 3",
   "language": "python",
   "name": "python3"
  },
  "language_info": {
   "codemirror_mode": {
    "name": "ipython",
    "version": 3
   },
   "file_extension": ".py",
   "mimetype": "text/x-python",
   "name": "python",
   "nbconvert_exporter": "python",
   "pygments_lexer": "ipython3",
   "version": "3.6.5"
  }
 },
 "nbformat": 4,
 "nbformat_minor": 2
}
