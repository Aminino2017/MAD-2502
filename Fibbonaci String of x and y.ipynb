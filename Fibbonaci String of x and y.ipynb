{
 "cells": [
  {
   "cell_type": "markdown",
   "metadata": {},
   "source": [
    "Consider the following sequence of strings S0,S1,S2,...:\n",
    "\n",
    "S0 = \"x\", S1= \"y\", and Sn= Sn-1||Sn-2 for n>1, where || denotes concatenation. For instance S2=\"yx\", S3=\"yxy\".\n",
    "\n",
    "Write a function fib_string(n), which for a given natural number n returns the string Sn."
   ]
  },
  {
   "cell_type": "code",
   "execution_count": 1,
   "metadata": {},
   "outputs": [],
   "source": [
    "def fib_string(n):  #Problem 1\n",
    "    '''Prints a string of x & y'''\n",
    "    number=2\n",
    "    string=('x')\n",
    "    sa=('x')\n",
    "    sb=('y')\n",
    "    if n==0:\n",
    "        return string\n",
    "    if n==1:\n",
    "        string=('y')\n",
    "        return string\n",
    "    else:\n",
    "        while number<=n:\n",
    "            string=sb+sa\n",
    "            sa=sb[:]\n",
    "            sb=string[:]\n",
    "            number+=1\n",
    "        return string"
   ]
  }
 ],
 "metadata": {
  "kernelspec": {
   "display_name": "Python 3",
   "language": "python",
   "name": "python3"
  },
  "language_info": {
   "codemirror_mode": {
    "name": "ipython",
    "version": 3
   },
   "file_extension": ".py",
   "mimetype": "text/x-python",
   "name": "python",
   "nbconvert_exporter": "python",
   "pygments_lexer": "ipython3",
   "version": "3.6.5"
  }
 },
 "nbformat": 4,
 "nbformat_minor": 2
}
