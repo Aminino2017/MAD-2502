{
 "cells": [
  {
   "cell_type": "code",
   "execution_count": 1,
   "metadata": {},
   "outputs": [],
   "source": [
    "#write a code which expects an input string \"d0e\"\n",
    "#d and e are digits (0...9), 0 must be 'A' or 'M'\n",
    "#for 'A' the sum of d and e is returned, for 'm' the product of d and e\n",
    "\n",
    "def compute(s):\n",
    "    if type(s)!=str or len(s)!=3 or not('0'<=s[0]<='9' and '0'<=s[2]<='9' and s[1] in 'MA'):\n",
    "        raise ValueError('incorrect input format')\n",
    "    d,e=int(s[0]),int(s[2])\n",
    "    return d+e if s[1]=='A' else d*e"
   ]
  },
  {
   "cell_type": "code",
   "execution_count": 3,
   "metadata": {},
   "outputs": [
    {
     "data": {
      "text/plain": [
       "8"
      ]
     },
     "execution_count": 3,
     "metadata": {},
     "output_type": "execute_result"
    }
   ],
   "source": [
    "compute('3A5')"
   ]
  }
 ],
 "metadata": {
  "kernelspec": {
   "display_name": "Python 3",
   "language": "python",
   "name": "python3"
  },
  "language_info": {
   "codemirror_mode": {
    "name": "ipython",
    "version": 3
   },
   "file_extension": ".py",
   "mimetype": "text/x-python",
   "name": "python",
   "nbconvert_exporter": "python",
   "pygments_lexer": "ipython3",
   "version": "3.6.5"
  }
 },
 "nbformat": 4,
 "nbformat_minor": 2
}
