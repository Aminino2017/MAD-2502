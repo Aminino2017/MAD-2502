{
 "cells": [
  {
   "cell_type": "markdown",
   "metadata": {},
   "source": [
    "Methods for sorting list\n",
    "\n",
    "have a large list, compare each element to teh ones before them, bring an element down the list if it is larger than the previous element\n",
    "\n",
    "An example where recursion allows a faster solution ofa problem - sorting\n",
    "\n",
    "Given: A list of integers L\n",
    "\n",
    "Goal:Sort the entries in L by size (efficiently)\n",
    "\n",
    "Idea: Pick some (pivot) element x in L and create two lists:\n",
    "\n",
    "    left: (to the left) all the elements smaller than x\n",
    "    \n",
    "    right: (to the right) all the elements greater than or equal to x (not including x itself)\n",
    "    \n",
    "    sort left and right recursively\n",
    "    \n",
    "The result is the sorted left list, concatenated with [x], conanctenated with the sorted right list\n",
    "\n",
    "expected running time is about nlog_2 n (n*log base 2 n)\n",
    "\n",
    "    this method is known as quicksort\n",
    "\n",
    "#a.append()    adds to a list\n",
    "\n",
    "    # a+b = a concantinate b    "
   ]
  },
  {
   "cell_type": "code",
   "execution_count": null,
   "metadata": {},
   "outputs": [],
   "source": [
    "def sort_it(xs):\n",
    "    '''simple implementation of quicksort'''\n",
    "    r=len(xs)\n",
    "    if r<2:\n",
    "        return xs\n",
    "    \n",
    "    pivot=xs[0]\n",
    "    left, right=[], []\n",
    "    for i in range(1,r):  #(1,r]\n",
    "        if xs[i]< pivot:\n",
    "            #left[]=left[]+ls[i]\n",
    "            left.append(xs[i])\n",
    "        else:\n",
    "            right.append(xs[i])\n",
    "    return sort_it(left)+[pivot]+sort_it(right)\n",
    "    "
   ]
  },
  {
   "cell_type": "code",
   "execution_count": 1,
   "metadata": {},
   "outputs": [],
   "source": [
    "def squares(n):\n",
    "    '''return the list of integers up untill n, each squared'''\n",
    "    ls=n*[0]     #creates a list of n elements, each with value of 0\n",
    "    for i in range (1,n+1):\n",
    "    \n",
    "        square=i**2\n",
    "        ls[i-1]=square\n",
    "        #pass    #says this is valid python ode, don't do more with it\n",
    "        \n",
    "        \n",
    "    return ls"
   ]
  },
  {
   "cell_type": "code",
   "execution_count": 2,
   "metadata": {},
   "outputs": [
    {
     "data": {
      "text/plain": [
       "[1, 4, 9, 16, 25, 36, 49, 64, 81, 100]"
      ]
     },
     "execution_count": 2,
     "metadata": {},
     "output_type": "execute_result"
    }
   ],
   "source": [
    "squares(10)"
   ]
  },
  {
   "cell_type": "code",
   "execution_count": 3,
   "metadata": {},
   "outputs": [],
   "source": [
    "def squares(n):\n",
    "    '''return the list of integers up untill n, each squared'''\n",
    "    ls=[]     #creates an empty list\n",
    "    for i in range (1,n+1):\n",
    "    \n",
    "        square=i**2\n",
    "\n",
    "        ls=ls+[square]\n",
    "        #pass    #says this is valid python ode, don't do more with it\n",
    "        \n",
    "        \n",
    "    return ls"
   ]
  },
  {
   "cell_type": "code",
   "execution_count": 4,
   "metadata": {},
   "outputs": [
    {
     "data": {
      "text/plain": [
       "[1, 4, 9, 16, 25]"
      ]
     },
     "execution_count": 4,
     "metadata": {},
     "output_type": "execute_result"
    }
   ],
   "source": [
    "squares(5)"
   ]
  },
  {
   "cell_type": "code",
   "execution_count": 5,
   "metadata": {},
   "outputs": [],
   "source": [
    "def squares(n):\n",
    "    '''return the list of integers up untill n, each squared, using lambda'''\n",
    "    ls=[i for i in range (1,n+1)]  #list comprehension\n",
    "        #list of i for each i in range 1 =>n\n",
    "    # map() uses a list, takes  afunction and applies the function to each thing in the list\n",
    "    \n",
    "    ls=list(map(lambda x:x**2, ls))\n",
    "    return ls"
   ]
  },
  {
   "cell_type": "code",
   "execution_count": 6,
   "metadata": {},
   "outputs": [
    {
     "data": {
      "text/plain": [
       "[1, 4, 9, 16, 25]"
      ]
     },
     "execution_count": 6,
     "metadata": {},
     "output_type": "execute_result"
    }
   ],
   "source": [
    "squares(5)"
   ]
  },
  {
   "cell_type": "markdown",
   "metadata": {},
   "source": [
    "Some more advanced methods for working with lists;\n",
    "\n",
    "-list comprehensions\n",
    "\n",
    "have the form\n",
    "    \n",
    "    [f(i) for i in xs if <condition>]\n",
    "    \n",
    "mathematically, this is the list [f(i); i in x | <condition> is true]"
   ]
  },
  {
   "cell_type": "code",
   "execution_count": 8,
   "metadata": {},
   "outputs": [
    {
     "data": {
      "text/plain": [
       "[1, 4, 7]"
      ]
     },
     "execution_count": 8,
     "metadata": {},
     "output_type": "execute_result"
    }
   ],
   "source": [
    "[i for i in range(1,10) if i%3==1]"
   ]
  },
  {
   "cell_type": "code",
   "execution_count": 9,
   "metadata": {},
   "outputs": [
    {
     "data": {
      "text/plain": [
       "[1, 9]"
      ]
     },
     "execution_count": 9,
     "metadata": {},
     "output_type": "execute_result"
    }
   ],
   "source": [
    "#example\n",
    "[i**2 for i in range (4) if i%2==1]"
   ]
  },
  {
   "cell_type": "markdown",
   "metadata": {},
   "source": [
    "-map\n",
    "\n",
    "    this function has two arguments\n",
    "    \n",
    "    in a typical use it applies a function to all list elements"
   ]
  },
  {
   "cell_type": "code",
   "execution_count": 10,
   "metadata": {},
   "outputs": [
    {
     "name": "stdout",
     "output_type": "stream",
     "text": [
      "[2, 3, 4]\n"
     ]
    }
   ],
   "source": [
    "ls=list(map(lambda n:n+1,[1,2,3]))\n",
    "print(ls)"
   ]
  },
  {
   "cell_type": "code",
   "execution_count": 11,
   "metadata": {},
   "outputs": [],
   "source": [
    "def sort_it(xs):\n",
    "    '''simple implementation of quicksort'''\n",
    "    r=len(xs)\n",
    "    if r<2:\n",
    "        return xs\n",
    "    \n",
    "    pivot=xs[0]\n",
    "    \n",
    "    left=[x for x in xs if x<pivot]   #i keep every x in xs provided it is less than the pivot\n",
    "    right=[x for x in xs[1:] if x>=pivot]\n",
    "    \n",
    "    return sort_it(left)+[pivot]+sort_it(right)\n",
    "    \n",
    "    "
   ]
  },
  {
   "cell_type": "code",
   "execution_count": 12,
   "metadata": {},
   "outputs": [
    {
     "data": {
      "text/plain": [
       "[3, 4, 5, 6, 21, 21, 23, 32, 63]"
      ]
     },
     "execution_count": 12,
     "metadata": {},
     "output_type": "execute_result"
    }
   ],
   "source": [
    "sort_it([21,32,63,5,6,21,3,4,23])"
   ]
  },
  {
   "cell_type": "code",
   "execution_count": null,
   "metadata": {},
   "outputs": [],
   "source": []
  }
 ],
 "metadata": {
  "kernelspec": {
   "display_name": "Python 3",
   "language": "python",
   "name": "python3"
  },
  "language_info": {
   "codemirror_mode": {
    "name": "ipython",
    "version": 3
   },
   "file_extension": ".py",
   "mimetype": "text/x-python",
   "name": "python",
   "nbconvert_exporter": "python",
   "pygments_lexer": "ipython3",
   "version": "3.6.5"
  }
 },
 "nbformat": 4,
 "nbformat_minor": 2
}
