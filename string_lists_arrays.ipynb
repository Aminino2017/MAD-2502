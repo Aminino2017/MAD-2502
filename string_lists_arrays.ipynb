{
 "cells": [
  {
   "cell_type": "code",
   "execution_count": 1,
   "metadata": {},
   "outputs": [],
   "source": [
    "#!/usr/bin/env python3"
   ]
  },
  {
   "cell_type": "markdown",
   "metadata": {},
   "source": [
    "# Strings, Lists, Arrays\n",
    "For strings, 'string', gives a string\n",
    "python uses lists to organize data\n",
    "To store multiple values in a single data structure, use brakets [ ]"
   ]
  },
  {
   "cell_type": "code",
   "execution_count": 2,
   "metadata": {},
   "outputs": [
    {
     "data": {
      "text/plain": [
       "[42, 'car', 17]"
      ]
     },
     "execution_count": 2,
     "metadata": {},
     "output_type": "execute_result"
    }
   ],
   "source": [
    "[42,\"car\",17]  #is an example of a list"
   ]
  },
  {
   "cell_type": "code",
   "execution_count": 3,
   "metadata": {},
   "outputs": [],
   "source": [
    "a=[4,5,6]  #lists can be assigned to a variable"
   ]
  },
  {
   "cell_type": "code",
   "execution_count": 4,
   "metadata": {},
   "outputs": [
    {
     "data": {
      "text/plain": [
       "[4, 5, 6]"
      ]
     },
     "execution_count": 4,
     "metadata": {},
     "output_type": "execute_result"
    }
   ],
   "source": [
    "a"
   ]
  },
  {
   "cell_type": "code",
   "execution_count": 5,
   "metadata": {},
   "outputs": [],
   "source": [
    "a=[42,'car','cat',17]  #we can access indivudal elements by simple indexing"
   ]
  },
  {
   "cell_type": "markdown",
   "metadata": {},
   "source": [
    "a[0] will take the first element from the list\n",
    "\n",
    "python indexes (starts) at 0"
   ]
  },
  {
   "cell_type": "code",
   "execution_count": 6,
   "metadata": {},
   "outputs": [
    {
     "data": {
      "text/plain": [
       "42"
      ]
     },
     "execution_count": 6,
     "metadata": {},
     "output_type": "execute_result"
    }
   ],
   "source": [
    "a[0]"
   ]
  },
  {
   "cell_type": "code",
   "execution_count": 7,
   "metadata": {},
   "outputs": [
    {
     "data": {
      "text/plain": [
       "17"
      ]
     },
     "execution_count": 7,
     "metadata": {},
     "output_type": "execute_result"
    }
   ],
   "source": [
    "a[-1]    #Python can count backwards, a[-1] is the last element, a[-2] is the second to last element, etc."
   ]
  },
  {
   "cell_type": "markdown",
   "metadata": {},
   "source": [
    "multiple elements can be taken out of a list, this operation is called slicing\n",
    "\n",
    "a[1:3]\n",
    "\n",
    "first value, the first element you want (inclusive)\n",
    "second value, the value you dont take (exclusive)\n",
    "    (you will pick from first element UNTIL the value right BEFORE the second element)\n",
    "\n",
    "b=[1,2,3,4,5]\n",
    "b[1:3] denotes the dicrete interval of elements [2,4)\n",
    "    we have the second and third element, the fourth element is not included"
   ]
  },
  {
   "cell_type": "code",
   "execution_count": 8,
   "metadata": {},
   "outputs": [
    {
     "data": {
      "text/plain": [
       "[42, 'car', 'cat']"
      ]
     },
     "execution_count": 8,
     "metadata": {},
     "output_type": "execute_result"
    }
   ],
   "source": [
    "a[0:3]"
   ]
  },
  {
   "cell_type": "code",
   "execution_count": 9,
   "metadata": {},
   "outputs": [
    {
     "data": {
      "text/plain": [
       "6"
      ]
     },
     "execution_count": 9,
     "metadata": {},
     "output_type": "execute_result"
    }
   ],
   "source": [
    "a=[[1,2,3],[4,5,6]]     # list of lists i.e., matrix\n",
    "a[1]                    # first element of list a, i.e. n=[1,2,3]\n",
    "a[1][2]                 # third element of n\n"
   ]
  },
  {
   "cell_type": "code",
   "execution_count": 10,
   "metadata": {},
   "outputs": [],
   "source": [
    "example=['a','b','c','d','e','f']\n"
   ]
  },
  {
   "cell_type": "code",
   "execution_count": 11,
   "metadata": {},
   "outputs": [
    {
     "data": {
      "text/plain": [
       "['b', 'd', 'f']"
      ]
     },
     "execution_count": 11,
     "metadata": {},
     "output_type": "execute_result"
    }
   ],
   "source": [
    "example[1:7:2]   #Third number in slicing denotes step size between elements being chosen\n",
    "                 #'2' says that we will take every second element from element 2 to 6"
   ]
  },
  {
   "cell_type": "markdown",
   "metadata": {},
   "source": [
    "python's slicing' can be used to extract multiple elements, i.e. a[1:5:2]  will pick a[1], a[3] and return them as single list"
   ]
  },
  {
   "cell_type": "code",
   "execution_count": 12,
   "metadata": {},
   "outputs": [],
   "source": [
    "example=['a','b','c','d','e','f']\n",
    "f=example[0:7:2]          #list[a:b:n]  take every nth element starting at index a up until index b-1"
   ]
  },
  {
   "cell_type": "code",
   "execution_count": 13,
   "metadata": {},
   "outputs": [
    {
     "data": {
      "text/plain": [
       "['a', 'c', 'e']"
      ]
     },
     "execution_count": 13,
     "metadata": {},
     "output_type": "execute_result"
    }
   ],
   "source": [
    "f"
   ]
  },
  {
   "cell_type": "code",
   "execution_count": 14,
   "metadata": {},
   "outputs": [],
   "source": [
    "test=example\n",
    "test[2]='X'   #to change element of list ElementName[i]='replacement', where i is index\n",
    "              #test[2]='X' takes third element and replaces it with 'X'"
   ]
  },
  {
   "cell_type": "code",
   "execution_count": 15,
   "metadata": {},
   "outputs": [
    {
     "data": {
      "text/plain": [
       "['a', 'b', 'X', 'd', 'e', 'f']"
      ]
     },
     "execution_count": 15,
     "metadata": {},
     "output_type": "execute_result"
    }
   ],
   "source": [
    "test"
   ]
  },
  {
   "cell_type": "code",
   "execution_count": 16,
   "metadata": {},
   "outputs": [
    {
     "data": {
      "text/plain": [
       "['a', 'b', 'X', 'd', 'e', 'f']"
      ]
     },
     "execution_count": 16,
     "metadata": {},
     "output_type": "execute_result"
    }
   ],
   "source": [
    "example   #original list will also contain replacement\n",
    "          #an assignment 'b=a' with a list 'a' does NOT create a new copy of a. for creating a new copy, we can use slicing b=a[:]"
   ]
  },
  {
   "cell_type": "markdown",
   "metadata": {},
   "source": [
    "to create a new list"
   ]
  },
  {
   "cell_type": "code",
   "execution_count": 17,
   "metadata": {},
   "outputs": [
    {
     "name": "stdout",
     "output_type": "stream",
     "text": [
      "[1, 2, 3, 4, 5, 6]\n",
      "orignal is: [1, 2, 'WRONG', 4, 5, 6]\n",
      "copy is:    [1, 2, 3, 4, 5, 6]\n"
     ]
    }
   ],
   "source": [
    "original=[1,2,3,4,5,6]\n",
    "copy=original[:]    #every element in example will be copied onto test2\n",
    "print(copy)\n",
    "original[2]='WRONG'                #I modify the third element\n",
    "print('orignal is:',original)      #when printing, a comma is used to seperate an object\n",
    "print('copy is:   ',copy)            #I show that copy and original are now NOT the same object"
   ]
  },
  {
   "cell_type": "code",
   "execution_count": 18,
   "metadata": {},
   "outputs": [
    {
     "name": "stdout",
     "output_type": "stream",
     "text": [
      "length of original:         6\n",
      "length of the word hello:   5\n"
     ]
    }
   ],
   "source": [
    "original=[1,2,3,4,5,6]\n",
    "print( 'length of original:        ', len(original) )    #find the length of a list\n",
    "print( 'length of the word hello:  ', len(\"hello\") )   #find the length of a string"
   ]
  },
  {
   "cell_type": "code",
   "execution_count": 19,
   "metadata": {},
   "outputs": [
    {
     "name": "stdout",
     "output_type": "stream",
     "text": [
      "['john', 'mary', 'adam', 12, 11, 13]\n"
     ]
    }
   ],
   "source": [
    "names=['john','mary','adam']   #concatiation is done by adding lists\n",
    "age=[12,11,13]  \n",
    "print(names+age)               #names+age concantinates the two"
   ]
  }
 ],
 "metadata": {
  "kernelspec": {
   "display_name": "Python 3",
   "language": "python",
   "name": "python3"
  },
  "language_info": {
   "codemirror_mode": {
    "name": "ipython",
    "version": 3
   },
   "file_extension": ".py",
   "mimetype": "text/x-python",
   "name": "python",
   "nbconvert_exporter": "python",
   "pygments_lexer": "ipython3",
   "version": "3.6.5"
  }
 },
 "nbformat": 4,
 "nbformat_minor": 2
}
