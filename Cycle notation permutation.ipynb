{
 "cells": [
  {
   "cell_type": "markdown",
   "metadata": {},
   "source": [
    "Permutations:\n",
    "\n",
    "    it is common to express permutation in cycle notation\n",
    "    \n",
    "remeove from list\n",
    "\n",
    "list.remove(4)\n",
    "\n",
    "remove first occurance of what is in remove()"
   ]
  },
  {
   "cell_type": "code",
   "execution_count": 4,
   "metadata": {},
   "outputs": [],
   "source": [
    "def table2cycle(perm):\n",
    "    '''convert table to a list of disjoint cycles'''\n",
    "\n",
    "    to_do=perm[:]  # numbers still to be processed\n",
    "    cycles=[]      # will hold the final list of cycles\n",
    "    while len(to_do)>0: # not done yet...\n",
    "        cycle=[]\n",
    "        image=to_do[0]  # pick a starting point for a new cycle\n",
    "        while not (image in cycle):\n",
    "            cycle.append(image) # add element to current cycle\n",
    "            to_do.remove(image) # ... and remove it from to-do list\n",
    "            image=perm[image]   # find next cycle entry\n",
    "\n",
    "        cycles.append(cycle)  # store complete cycle\n",
    "    return cycles             # return result\n"
   ]
  },
  {
   "cell_type": "code",
   "execution_count": 5,
   "metadata": {},
   "outputs": [
    {
     "data": {
      "text/plain": [
       "[[2, 0], [3, 5, 8, 1], [4], [6], [7]]"
      ]
     },
     "execution_count": 5,
     "metadata": {},
     "output_type": "execute_result"
    }
   ],
   "source": [
    "table2cycle([2,3,0,5,4,8,6,7,1])\n",
    "#for i in range(len(n)):\n",
    "#    test=2 in n[i]\n",
    "#    if test==True:\n",
    "#        print(n[i])"
   ]
  },
  {
   "cell_type": "markdown",
   "metadata": {},
   "source": [
    "A permutation on a set of numbers {0,...,n-1} is a function from {0,...n-1} into itself such that no two numbers are mapped on the same image. For instance, the function f on {0,1,2} defined by f(0)=1, f(1)=0, and f(2)=2 is a permutation. In Python, we can represent a permutation on {0,..,n-1} as a list of length n, where the i-th element of the list contains the image of i under the corresponding permutation. For instance, the above function f would be represented as [1,0,2].\n",
    "\n",
    "Write a Python function compose(p1,p2), which computes the composition of two permutations, i.e., the permutation that first applies (the permutation represented by the list) p2 and then applies (the permutation represented by the list) p1. Your function must check that p1 and p2 represent valid permutations on the same set of numbers.\n",
    "\n",
    "Example: compose([1,0,2], [1,2,0]) must return [0,2,1].\n",
    "\n",
    "With the same conventions as in the previous problem, write a function is_power(p1,p2), which returns True, if and only if the permutation p2 can be obtained by repeatedly composing the permutation p1 with itself. For instance, is_power([1,2,0],[0,1,2]) must return True, and is_power([0,1,2],[2,1,0]) must return False.\n"
   ]
  },
  {
   "cell_type": "code",
   "execution_count": null,
   "metadata": {},
   "outputs": [],
   "source": [
    "def breakme(p1,p2):  #Checks that both inputs are valid permutations\n",
    "    p1=sorted(p1)\n",
    "    p2=sorted(p2)\n",
    "    c=[]\n",
    "    n=len(p1)\n",
    "    check_me_out=0   \n",
    "    for i in range(n):   \n",
    "        c.append(i) #append c=[]\n",
    "    if p1==p2:\n",
    "        if p1==c:\n",
    "            check_me_out=0\n",
    "        elif p1!=c:\n",
    "            check_me_out=1     \n",
    "    elif p1!=p2:\n",
    "        check_me_out=1   \n",
    "    return check_me_out  \n",
    "    \n",
    "    \n",
    "def perm(perm1, perm2):  #Actually computes permutation of two given lists\n",
    "    n=len(perm1)\n",
    "    p1_c=perm1[:]\n",
    "    for i in range(n):\n",
    "        p1_c[i]=perm2[perm1[i]]   #applies perm 2 to perm 1\n",
    "    return p1_c\n",
    "\n",
    "def compose(p1,p2):\n",
    "    '''Computes the compositon of the two given permutations'''\n",
    "    oh_oh=breakme(p1,p2)\n",
    "    if oh_oh==1:\n",
    "        print('Your permutations were...')\n",
    "        print('Invalid!')\n",
    "        print('Please rerun the program, and input Valid permutations.')\n",
    "        return\n",
    "    perm_c=[]\n",
    "    n=len(p1)\n",
    "    for i in range(n):   \n",
    "        perm_c.append(i)\n",
    "    perm_c=perm(perm_c,p2)\n",
    "    perm_c=perm(perm_c,p1)\n",
    "    print('The final permutation is:')\n",
    "    return perm_c\n",
    "\n",
    "def is_power(p1,p2):\n",
    "    '''Will return True iff p2 can be obtained by repeatedly composing p1 with itself'''\n",
    "    import math\n",
    "    oh_oh=breakme(p1,p2)\n",
    "    if oh_oh==1:\n",
    "        print('Your permutations were...')\n",
    "        print('Invalid!')\n",
    "        print('Please rerun the program, and input Valid permutations.')\n",
    "        return\n",
    "    n=len(p1)\n",
    "    fact=math.factorial(n)\n",
    "    stop=0\n",
    "    check=('False')\n",
    "    current=p1[:]\n",
    "    while stop< fact+1:\n",
    "        current=perm(current,p1)\n",
    "        if current==p2:\n",
    "            check=('True')\n",
    "            break\n",
    "        if current==p1:\n",
    "            break\n",
    "        stop+=1  \n",
    "    print(check)\n"
   ]
  },
  {
   "cell_type": "markdown",
   "metadata": {},
   "source": [
    "Write a Python function cycle2table(cs), which has a list of lists of non-negative integers cs as input. The input represents a permutation in cycle notation, as discussed in class. Your function has to verify that the cycles in cs contain all integers in the range from 0 to n for some n, but it is not required that the cycles are disjoint. E.g., [[0,2],[1,4,2],[3]] is a valid input, whereas [[1,2,3],[0,5]] is not. We use the convention that cycles are applied from right to left. For instance, the permutation represented by [[0,1],[0,1,2]] maps 0 to 0, 1 to 2, and 2 to 1. The return value of cycle2table(cs) is a list of integers images, such that the i-th entry of images is the image of i under the permutation represented by cs."
   ]
  },
  {
   "cell_type": "code",
   "execution_count": null,
   "metadata": {},
   "outputs": [],
   "source": [
    "def apply_cycle(cycle, i):\n",
    "    '''apply cycle to an integer'''\n",
    "    imagge= i\n",
    "    for k in range(len(cycle)):     #check each element in the cycle\n",
    "        if cycle[k]==i:             #if it matches i\n",
    "            image=cycle[(k+1)%len(cycle)]   #move 1 index to the right or wrap around\n",
    "    return image\n",
    "\n",
    "def cyle2table(cs):\n",
    "    flattend=[]\n",
    "    for cycle in cs:\n",
    "            flattend.extend(cycle)   #write the elemets of cs intor the flattend list\n",
    "    maximum = max(flattened)         #find the maximum number\n",
    "    if set(flattened) != set(i for i in range(maximum+1)):   #check if cs contains all elements from 0,..., n-1\n",
    "        return 'invalid input'\n",
    "    if any(len(set(c)) != len(c) for c in cs):   #checl if any repeated number in a cycle\n",
    "        return 'invalid input'\n",
    "    value_table=[]\n",
    "    for i in range(maximum +1):\n",
    "        current_image=i\n",
    "        for j in range(len(cs)-1,-1,-1):    #start from the right. move left\n",
    "            current_image=apply_cycle(cs[j], current_image)\n",
    "        value_table.append(current_image)\n",
    "    return value_table"
   ]
  }
 ],
 "metadata": {
  "kernelspec": {
   "display_name": "Python 3",
   "language": "python",
   "name": "python3"
  },
  "language_info": {
   "codemirror_mode": {
    "name": "ipython",
    "version": 3
   },
   "file_extension": ".py",
   "mimetype": "text/x-python",
   "name": "python",
   "nbconvert_exporter": "python",
   "pygments_lexer": "ipython3",
   "version": "3.6.5"
  }
 },
 "nbformat": 4,
 "nbformat_minor": 2
}
