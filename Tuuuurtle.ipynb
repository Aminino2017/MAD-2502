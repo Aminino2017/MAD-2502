{
 "cells": [
  {
   "cell_type": "markdown",
   "metadata": {},
   "source": [
    "1.Create a Turtle window:\n",
    "\n",
    "    From turtle, import Turtle, where t=Turtle()"
   ]
  },
  {
   "cell_type": "code",
   "execution_count": 1,
   "metadata": {},
   "outputs": [],
   "source": [
    "from turtle import Turtle\n",
    "t=Turtle()"
   ]
  },
  {
   "cell_type": "markdown",
   "metadata": {},
   "source": [
    "We see an arrorw head pointing east (default) This location is called home. the position"
   ]
  },
  {
   "cell_type": "code",
   "execution_count": 2,
   "metadata": {},
   "outputs": [],
   "source": [
    "t.screen.bgcolor('black')\n",
    "t.color('blue')"
   ]
  },
  {
   "cell_type": "code",
   "execution_count": 3,
   "metadata": {},
   "outputs": [],
   "source": [
    "###excercise 1: Write a program to draw a square on the screen\n",
    "###let the background color be black and color of the line drawn red\n",
    "##\n",
    "from turtle import Turtle\n",
    "t=Turtle()\n",
    "t.hideturtle()\n",
    "######t.screen.bgcolor('black')\n",
    "######t.color('red')\n",
    "######t.pensize(10)\n",
    "######t.goto(100,0)\n",
    "######t.goto(100,100)\n",
    "######t.goto(0,100)\n",
    "######t.goto(0,0)\n",
    "######\n",
    "def square(length):\n",
    "    \n",
    "    for i in range(4):\n",
    "        t.fd(length)\n",
    "        t.left(90)\n",
    "######square(100)\n",
    "######\n",
    "######\n",
    "######excersie 2: Write a prpgram to draw a rectatangle inclined to 30 degrees.\n",
    "def slanted_rectangle(l,w,inc=30):\n",
    "    '''create a rectange with given length, width, and incline'''\n",
    "    t.setheading(inc)\n",
    "    for i in range(2):\n",
    "        t.fd(w)\n",
    "        t.left(90)\n",
    "        t.fd(l)\n",
    "        t.left(90)\n",
    "######slanted_rectangle(200,100,45)                        \n",
    "##t.up()\n",
    "##t.goto(100,50)\n",
    "##t.down()\n",
    "##t.circle(50)\n",
    "\n",
    "#t.write(\"Hai is awesome\", move=True,align=\"center\",font=(\"Freestyle Script\",50,\"normal\"))\n",
    "\n",
    "def rectangle(l,w):\n",
    "    for i in range(2):\n",
    "        t.fd(w)\n",
    "        t.left(90)\n",
    "        t.fd(l)\n",
    "        t.left(90)\n",
    "\n",
    "def draw_square(x,y,length):\n",
    "    t.up()\n",
    "    t.goto(x,y)\n",
    "    t.down()\n",
    "    t.begin_fill()\n",
    "    square(length)\n",
    "    t.end_fill()\n",
    "\n",
    "\n",
    "def draw_rectangle(x,y,l,w):\n",
    "    t.up()\n",
    "    t.goto(x,y)\n",
    "    t.down()\n",
    "    t.begin_fill()\n",
    "    rectangle(l,w)\n",
    "    t.end_fill()\n",
    "\n",
    "\n",
    "draw_square(20,20,10)\n",
    "draw_square(120,165,50)\n",
    "draw_square(50,-60,36)\n"
   ]
  },
  {
   "cell_type": "markdown",
   "metadata": {},
   "source": [
    "L-System\n",
    "\n",
    "*alphabet* : 'A','B'\n",
    "\n",
    "*Axiom* :Starting point, A\n",
    "\n",
    "*Set of Rules*: \n",
    "1. A => B\n",
    "2. B => AB"
   ]
  },
  {
   "cell_type": "markdown",
   "metadata": {},
   "source": [
    "Generations:\n",
    "0. A\n",
    "1. B\n",
    "2. AB\n",
    "3. BAB__ *'B AB'*\n",
    "4. ABBAB__ *'AB B AB'*"
   ]
  },
  {
   "cell_type": "code",
   "execution_count": 4,
   "metadata": {},
   "outputs": [],
   "source": [
    "def applyRules(ch):\n",
    "    newstr=\"\"\n",
    "    if ch==\"A\":\n",
    "        newstr=\"B\"\n",
    "    elif ch==\"B\":\n",
    "        newstr=\"AB\"\n",
    "    else:\n",
    "        newstr=ch\n",
    "    return newstr\n",
    "\n",
    "def processingString(oldStr):\n",
    "    newstr=\"\"\n",
    "    for i in oldStr:\n",
    "        newstr=newstr + applyRules(i)\n",
    "    return newstr\n",
    "        \n",
    "def createLSystem(NumIters, axiom):\n",
    "    startString=axiom\n",
    "    endString=\"\"\n",
    "    for i in range(NumIters):\n",
    "        endString = processingString(startString)\n",
    "        startString=endString\n",
    "    return endString\n"
   ]
  },
  {
   "cell_type": "code",
   "execution_count": 5,
   "metadata": {},
   "outputs": [
    {
     "name": "stdout",
     "output_type": "stream",
     "text": [
      "ABBAB\n"
     ]
    }
   ],
   "source": [
    "print(createLSystem(4,\"A\"))"
   ]
  },
  {
   "cell_type": "markdown",
   "metadata": {},
   "source": [
    "Example 1:\n",
    "\n",
    "F, Axiom\n",
    "\n",
    "F=> F-F++F-F, Rule\n",
    "\n",
    "F: go forward by some number of units\n",
    "\n",
    "B: go backward\n",
    "\n",
    "-: turn left by some degree\n",
    "\n",
    "+: turn right by some degree"
   ]
  },
  {
   "cell_type": "code",
   "execution_count": 6,
   "metadata": {},
   "outputs": [],
   "source": [
    "import turtle\n",
    "def applyRules2(ch):\n",
    "    newstr=\"\"\n",
    "    if ch==\"F\":\n",
    "        newstr=\"F-F++F-F\"\n",
    "    else:\n",
    "        newstr=ch\n",
    "    return newstr\n",
    "\n",
    "def processingString2(oldStr):\n",
    "    newstr=\"\"\n",
    "    for i in oldStr:\n",
    "        newstr=newstr + applyRules2(i)\n",
    "    return newstr\n",
    "        \n",
    "def createLSystem2(NumIters, axiom):\n",
    "    startString=axiom\n",
    "    endString=\"\"\n",
    "    for i in range(NumIters):\n",
    "        endString = processingString2(startString)\n",
    "        startString=endString\n",
    "    return endString\n",
    "\n",
    "def drawLsystem(aTurtle,instructions, angle, distance):\n",
    "    for cmd in instructions:\n",
    "        if cmd==\"F\":\n",
    "            aTurtle.forward(distance)\n",
    "        elif cmd==\"B\":\n",
    "            aTurtle.backward(distance)\n",
    "        elif cmd ==\"+\":\n",
    "            aTurtle.right(angle)\n",
    "        elif cmd==\"-\":\n",
    "            aTurtle.left(angle)\n",
    "        \n",
    "def main():\n",
    "    t= turtle.Turtle()\n",
    "    wn=turtle.Screen()\n",
    "    inst=createLSystem2(4,\"F\")\n",
    "    t.up()\n",
    "    t.back(200)\n",
    "    t.down()\n",
    "    t.speed(9)\n",
    "    drawLsystem(t,inst,60,5)\n",
    "    wn.exitonclick()"
   ]
  }
 ],
 "metadata": {
  "kernelspec": {
   "display_name": "Python 3",
   "language": "python",
   "name": "python3"
  },
  "language_info": {
   "codemirror_mode": {
    "name": "ipython",
    "version": 3
   },
   "file_extension": ".py",
   "mimetype": "text/x-python",
   "name": "python",
   "nbconvert_exporter": "python",
   "pygments_lexer": "ipython3",
   "version": "3.6.5"
  }
 },
 "nbformat": 4,
 "nbformat_minor": 2
}
