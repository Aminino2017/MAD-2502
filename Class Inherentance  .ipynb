{
 "cells": [
  {
   "cell_type": "code",
   "execution_count": 1,
   "metadata": {},
   "outputs": [],
   "source": [
    "#Class inherentince\n",
    "#something related that is a special case of a nother class\n",
    "\n",
    "class Pet:\n",
    "    '''class that describes pets'''\n",
    "    def __init__(self, name='Spot', species='dog', color='brown'):\n",
    "        self.name=name\n",
    "        self.species=species\n",
    "        self.color=color\n",
    "    \n",
    "    def __str__(self):\n",
    "        return ('Hello, my name is'+' '+r.name+' '+'I am a '+' '+r.color+' '+r.species)\n",
    "    \n",
    "    \n",
    "class Cat(Pet):\n",
    "    '''special case of Pet. everything Pet can do, Cat can do'''\n",
    "    # Cat(Pet) means that Cat is a special subset of Pet\n",
    "    \n",
    "    def __init__(self, name, color, chases_mice=True, lands_on_four_feet=True):\n",
    "        Pet.__init__(self,name,'cat',color) #We call specific function in pet and spcecify relevant operators\n",
    "        self.hunter=chases_mice\n",
    "        self.agile=lands_on_four_feet\n",
    "\n",
    "        \n",
    "class Dog(Pet):\n",
    "    '''special case of Pet'''\n",
    "    def __init__(self, name, color, chases_cat=True, good_boy=True,tricks=[]):\n",
    "        Pet.__init__(self,name,'dog', color)\n",
    "        self.hunter=chases_cat\n",
    "        self.bless=good_boy\n",
    "        \n",
    "    def addtrick(self,trick):\n",
    "        self.tricks.append(trick)\n",
    "        \n",
    "    def __str__(self):\n",
    "        return \"Im \"+self.name+\".\" \"Im cool\"\n",
    "        \n",
    "class Dragon(Pet):\n",
    "    def __init__(self,name,color,bad_ass=True, fire=True,fly=True, klepto=True,literate=True,income=[],political=[]):\n",
    "        Pet.__init__(self,name,'dragon',color)\n",
    "        self.bad_ass=bad_ass\n",
    "        self.fire=fire\n",
    "        self.fly=fly\n",
    "        self.klepto=klepto\n",
    "        self.literate=literate\n",
    "        \n",
    "    def cash_money(self,money_maker):\n",
    "        self.income.append(money_maker)\n",
    "        \n",
    "    def divisive(self,leaning):\n",
    "        self.political.append(leaning)"
   ]
  },
  {
   "cell_type": "code",
   "execution_count": 2,
   "metadata": {},
   "outputs": [
    {
     "name": "stdout",
     "output_type": "stream",
     "text": [
      "Hello, my name is Spot I am a  brown dog\n"
     ]
    }
   ],
   "source": [
    "r=Pet()\n",
    "print(r)"
   ]
  },
  {
   "cell_type": "code",
   "execution_count": 3,
   "metadata": {},
   "outputs": [],
   "source": [
    "peter=Cat('Peter','Black')"
   ]
  },
  {
   "cell_type": "code",
   "execution_count": 4,
   "metadata": {},
   "outputs": [
    {
     "data": {
      "text/plain": [
       "'cat'"
      ]
     },
     "execution_count": 4,
     "metadata": {},
     "output_type": "execute_result"
    }
   ],
   "source": [
    "peter.species"
   ]
  },
  {
   "cell_type": "code",
   "execution_count": 5,
   "metadata": {},
   "outputs": [
    {
     "data": {
      "text/plain": [
       "True"
      ]
     },
     "execution_count": 5,
     "metadata": {},
     "output_type": "execute_result"
    }
   ],
   "source": [
    "peter.hunter"
   ]
  }
 ],
 "metadata": {
  "kernelspec": {
   "display_name": "Python 3",
   "language": "python",
   "name": "python3"
  },
  "language_info": {
   "codemirror_mode": {
    "name": "ipython",
    "version": 3
   },
   "file_extension": ".py",
   "mimetype": "text/x-python",
   "name": "python",
   "nbconvert_exporter": "python",
   "pygments_lexer": "ipython3",
   "version": "3.6.5"
  }
 },
 "nbformat": 4,
 "nbformat_minor": 2
}
