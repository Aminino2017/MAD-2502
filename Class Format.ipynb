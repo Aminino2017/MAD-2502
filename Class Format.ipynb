{
 "cells": [
  {
   "cell_type": "code",
   "execution_count": null,
   "metadata": {},
   "outputs": [],
   "source": [
    "class Name_it:\n",
    "    def __init__(self,something):\n",
    "        '''this will define the class object'''\n",
    "        self.something=something #proeprly define what this something does\n",
    "        \n",
    "    def __add__(self,other):\n",
    "        '''add two of the things'''\n",
    "        return Name_it(self.something   other.something)#add whatever needs to be added here\n",
    "    \n",
    "    def __sub__(self,other):\n",
    "        '''subtract two of the things'''\n",
    "        return Name_it(self.something   other.something)#subtract whatever needs to be subtracted here\n",
    "      \n",
    "    def __mul__(self,other):\n",
    "        '''multiply two of the things'''\n",
    "        return Name_it(self.something   other.something)\n",
    "          \n",
    "\n",
    "    def __eq__(self,other):\n",
    "        '''check if two of the things are equivalent'''\n",
    "        if (self.something  == other.something):\n",
    "            return True\n",
    "        else:\n",
    "            return False\n",
    "\n",
    "    def __str__(self):\n",
    "        '''convert something to a string'''\n",
    "        return str(self.something)\n",
    "\n",
    "    def __call__(self,x):  #you can evaluate self(x)\n",
    "    \n",
    "        return \n",
    "    "
   ]
  }
 ],
 "metadata": {
  "kernelspec": {
   "display_name": "Python 3",
   "language": "python",
   "name": "python3"
  },
  "language_info": {
   "codemirror_mode": {
    "name": "ipython",
    "version": 3
   },
   "file_extension": ".py",
   "mimetype": "text/x-python",
   "name": "python",
   "nbconvert_exporter": "python",
   "pygments_lexer": "ipython3",
   "version": "3.6.5"
  }
 },
 "nbformat": 4,
 "nbformat_minor": 2
}
