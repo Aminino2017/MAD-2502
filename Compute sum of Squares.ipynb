{
 "cells": [
  {
   "cell_type": "markdown",
   "metadata": {},
   "source": [
    "Write a Python function sumOfsquares(n) which has an integer n as input and returns False, if and only if n cannot be written in the form n=a2+b2 with integers a,b. If such integers a, b exist, the function returns one such pair. For instance, sumOfSquares(25) could return the pair (3,4), whereas sumofSquares(6) must return False."
   ]
  },
  {
   "cell_type": "code",
   "execution_count": 1,
   "metadata": {},
   "outputs": [],
   "source": [
    "def sumOfsqaures(n):\n",
    "    '''check if n can be written as the sum of two squares'''\n",
    "    result= False                     #initialize to be False in case n cannot be written as sum of squares\n",
    "    for a in range(int(n**0.5)+1): \n",
    "        if result != False:\n",
    "            break\n",
    "        for b in range(a+1): #go up untill a\n",
    "            if a**2 + b**2 == n:\n",
    "                result = (a,b)\n",
    "                break\n",
    "    return result"
   ]
  },
  {
   "cell_type": "code",
   "execution_count": null,
   "metadata": {},
   "outputs": [],
   "source": []
  }
 ],
 "metadata": {
  "kernelspec": {
   "display_name": "Python 3",
   "language": "python",
   "name": "python3"
  },
  "language_info": {
   "codemirror_mode": {
    "name": "ipython",
    "version": 3
   },
   "file_extension": ".py",
   "mimetype": "text/x-python",
   "name": "python",
   "nbconvert_exporter": "python",
   "pygments_lexer": "ipython3",
   "version": "3.6.5"
  }
 },
 "nbformat": 4,
 "nbformat_minor": 2
}
