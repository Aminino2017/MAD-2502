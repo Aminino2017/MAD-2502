{
 "cells": [
  {
   "cell_type": "code",
   "execution_count": 2,
   "metadata": {},
   "outputs": [],
   "source": [
    "def frequency_table(text,alphabet='abcdefghijklmnopqrstuvwxyz'):\n",
    "    table= dict() #This variable will store the frequencies\n",
    "    for c in alphabet:  #goes through every element in the string\n",
    "        table[c]=0\n",
    "    for letters in text.lower():  #look through the text,\n",
    "        if letters in alphabet:  #only looks at the alphabet\n",
    "            table[letters]+=1 #add one to the corresponding key value in alphabet when teh letter appears\n",
    "    return table\n",
    "\n",
    "\n",
    "def mathces_frequency(text,alphabet='abcdefghijklmnopqrstuvwxyz'):\n",
    "    \n",
    "    freq_table=frequency_table(text,alphabet)\n",
    "    candidates=dict()\n",
    "    \n",
    "    for frequency in freq_table.values():\n",
    "        candidates[frequency]=set()   #set does not have repetition of elements, not sorted\n",
    "    for c in freq_table:\n",
    "        candidates[freq_table[c]]|=set(c) #{c}==set(c)\n",
    "    return candidates"
   ]
  },
  {
   "cell_type": "code",
   "execution_count": 3,
   "metadata": {},
   "outputs": [
    {
     "data": {
      "text/plain": [
       "{0: {'a',\n",
       "  'b',\n",
       "  'f',\n",
       "  'g',\n",
       "  'j',\n",
       "  'k',\n",
       "  'n',\n",
       "  'p',\n",
       "  'q',\n",
       "  's',\n",
       "  't',\n",
       "  'u',\n",
       "  'v',\n",
       "  'x',\n",
       "  'y',\n",
       "  'z'},\n",
       " 1: {'c', 'd', 'i', 'm', 'w'},\n",
       " 4: {'e'},\n",
       " 2: {'h', 'r'},\n",
       " 3: {'l', 'o'}}"
      ]
     },
     "execution_count": 3,
     "metadata": {},
     "output_type": "execute_result"
    }
   ],
   "source": [
    "mathces_frequency('Hello World Here I Come!')"
   ]
  },
  {
   "cell_type": "code",
   "execution_count": null,
   "metadata": {},
   "outputs": [],
   "source": []
  }
 ],
 "metadata": {
  "kernelspec": {
   "display_name": "Python 3",
   "language": "python",
   "name": "python3"
  },
  "language_info": {
   "codemirror_mode": {
    "name": "ipython",
    "version": 3
   },
   "file_extension": ".py",
   "mimetype": "text/x-python",
   "name": "python",
   "nbconvert_exporter": "python",
   "pygments_lexer": "ipython3",
   "version": "3.6.5"
  }
 },
 "nbformat": 4,
 "nbformat_minor": 2
}
