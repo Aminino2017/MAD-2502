{
 "cells": [
  {
   "cell_type": "markdown",
   "metadata": {},
   "source": [
    "Write a Python function gcd_list(ls) which, given a list of integers ls, returns the greatest common divisor of the numbers in ls. For instance, gcd_list([12,20,-10]) should return 2."
   ]
  },
  {
   "cell_type": "code",
   "execution_count": null,
   "metadata": {},
   "outputs": [],
   "source": [
    "def gcd(a,b):   #Worked on in class on Agust 30th         \n",
    "    while b!= 0:  #Worked with Faith Connally\n",
    "        a=abs(a)\n",
    "        b=abs(b)\n",
    "        t= b\n",
    "        b=a%b\n",
    "        a=t\n",
    "    return a\n",
    "def gcd_list(ls):\n",
    "    n=len(ls)\n",
    "    a=ls[0]      #grab first element\n",
    "    d = a        #save value of first element\n",
    "    for i in range(1,n):    #look at every element in the lsit that is not the first element\n",
    "        b=ls[i]             #set b as the element we are looking at\n",
    "        d = gcd(d, b)       #replace d with whatever the gcd of what we found is\n",
    "    return d"
   ]
  }
 ],
 "metadata": {
  "kernelspec": {
   "display_name": "Python 3",
   "language": "python",
   "name": "python3"
  },
  "language_info": {
   "codemirror_mode": {
    "name": "ipython",
    "version": 3
   },
   "file_extension": ".py",
   "mimetype": "text/x-python",
   "name": "python",
   "nbconvert_exporter": "python",
   "pygments_lexer": "ipython3",
   "version": "3.6.5"
  }
 },
 "nbformat": 4,
 "nbformat_minor": 2
}
