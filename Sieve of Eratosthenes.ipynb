{
 "cells": [
  {
   "cell_type": "markdown",
   "metadata": {},
   "source": [
    "Goal: Find all prime numbers in [1,2,...,n] for a given n.\n",
    "\n",
    "We start with a list:\n",
    "\n",
    "[2,3,4,5,6,7,8,9,10,11,12,13,14,15,16,17,18,19,20,21,23,24]\n",
    "\n",
    "We take the first unmarked number (2) and cross out all its multiples\n",
    "        -cross out 4,6,8,...,24\n",
    "[2,3,5,7,9,11,13,15,17,19,21,23]\n",
    "\n",
    "we move to the next unmarked number (3) and do the same, marking off every third number\n",
    "        -cross out 6,9,12,15,18,21,24\n",
    "\n",
    "we are left with [2,3,5,7,11,13,17,19,23]\n",
    "\n",
    "we continue this way until all unmarked numbers have been identified"
   ]
  },
  {
   "cell_type": "code",
   "execution_count": 1,
   "metadata": {},
   "outputs": [],
   "source": [
    "def prime_sieve(n):\n",
    "    '''find primes <=n using the sieve of eratosthenes'''\n",
    "    \n",
    "    if type(n)!=int or n<1:\n",
    "        raise ValueError(\"Argument must be a postive integer\")\n",
    "\n",
    "    sieve=n*[False]\n",
    "    \n",
    "    position=2\n",
    "    primes=[]\n",
    "    \n",
    "    while position<n:\n",
    "        t=position\n",
    "        if sieve[t]==False:\n",
    "            primes.append[t]\n",
    "            for i in range(t,n,t):\n",
    "                sieve[i]=True\n",
    "        position+=1        \n",
    "    return primes"
   ]
  },
  {
   "cell_type": "code",
   "execution_count": 4,
   "metadata": {},
   "outputs": [],
   "source": [
    "def eratosthenes_gen():\n",
    "    '''generator for all primes with sieve of eratosthenes'''\n",
    "    witnesses={} #dictionary\n",
    "    q=2\n",
    "    while True:\n",
    "        p=witnesses.pop(q,None)  #if q is not in the keys, give None\n",
    "        if p:  #True if not None\n",
    "            x=p+q\n",
    "            while x in witnesses: x+=p  # so long as x is not a key, add p to it\n",
    "            witnesses[x]=p\n",
    "        else:\n",
    "            witnesses[q*q]=q\n",
    "            yield q\n",
    "        q+=1"
   ]
  },
  {
   "cell_type": "code",
   "execution_count": null,
   "metadata": {},
   "outputs": [],
   "source": []
  }
 ],
 "metadata": {
  "kernelspec": {
   "display_name": "Python 3",
   "language": "python",
   "name": "python3"
  },
  "language_info": {
   "codemirror_mode": {
    "name": "ipython",
    "version": 3
   },
   "file_extension": ".py",
   "mimetype": "text/x-python",
   "name": "python",
   "nbconvert_exporter": "python",
   "pygments_lexer": "ipython3",
   "version": "3.6.5"
  }
 },
 "nbformat": 4,
 "nbformat_minor": 2
}
