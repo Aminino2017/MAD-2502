{
 "cells": [
  {
   "cell_type": "markdown",
   "metadata": {},
   "source": [
    "ElGamal encryption\n",
    "\n",
    "    idea: I make a public encryption key\n",
    "    \n",
    "          this public encryption key can only encrypt a message\n",
    "          \n",
    "          I am the only one that can decrypt these messages\n",
    "          \n",
    "    Alice publishes a public key, which is assessible to everyone and can be used to encrypt messages, to decrypt, Alice has a secret key\n",
    "    \n",
    "    We face here a so-called public key encryption scheme"
   ]
  },
  {
   "cell_type": "markdown",
   "metadata": {},
   "source": [
    "Three algorithms\n",
    "    1)key generation:\n",
    "    \n",
    "        Alice picks a 'Large' prime number p and a generator g {2,...,p-1} of 'large' order. Let this order be q. Next, Alice picks a random number a {1,...,q}, which is her secret key, and publishes g^a mod p, which is the public key (along with p and g). \n",
    "       \n",
    "    2)method to encrypt\n",
    "        suppose Bob wants to send a message, m, to Alice. Let's assume m is a number mod p\n",
    "        \n",
    "        He picks a random number k {2,...,q} and sends (g^k mod p, ((g^a)^k)m mod p) to Alice each time the message is sent, k is reset, so there is always a different message\n",
    "              \n",
    "    3)method to decrypt\n",
    "    \n",
    "        Alice computes (g^k)^a mod p and recovers m\n",
    "        \n",
    "        m = ((g^ak)^-1) ((g^ak)m) mod p\n",
    "        \n",
    "            Inverse of mod\n",
    "            \n",
    "            a mod b\n",
    "            \n",
    "            inverse is c \n",
    "            \n",
    "            c is what you multiply a by to get ac mod b==1\n",
    "            \n",
    "        How can Alice compute an inverse mod p?\n",
    "        \n",
    "        Fermat's Little theorem ensures that x^(p-1)=1 mod p for all x{1,...,p-1}. Hence x(x^(p-2)) = 1 mod p  (g^ak)^(p-2) ((g^ak)m) mod p\n",
    "\n",
    "\n",
    "pow(number,power,given mod x)\n",
    "faster than (number**power)%x"
   ]
  },
  {
   "cell_type": "code",
   "execution_count": 1,
   "metadata": {},
   "outputs": [],
   "source": [
    "#ElGamal encryption with p=23 and g=5 [(5**11)%23==22]\n",
    "\n",
    "def key_gen(p=23,g=5):   #default values if we say nothing for the argument\n",
    "    '''produce a public key and a secret key for ElGamal'''\n",
    "    import random\n",
    "    \n",
    "    secret=random.randint(1,p-1)\n",
    "    public=pow(g,secret,p)\n",
    "    \n",
    "    return (public,secret)\n",
    "\n",
    "def encrypt(pk, m, p=23,g=5):\n",
    "    '''encrypt message m with public key pk'''\n",
    "    import random\n",
    "    \n",
    "    secret=random.randint(1,p-1)\n",
    "    gk=pow(g,secret,p)\n",
    "    gak=pow(pk,secret,p)\n",
    "    return (gk,(gak*m)%p)  #cycphertext\n",
    "    #tuple, not a list, cant append but can still find elements\n",
    "\n",
    "def decrypt(sk,c,p=23,g=5):\n",
    "    '''decrypt ElGamal chiphertext c'''\n",
    "    \n",
    "    gak=pow(c[0],sk,p)\n",
    "    gak_inv=pow(gak,p-2,p)\n",
    "    \n",
    "    return (gak_inv*c[1])%p\n",
    "\n",
    "\n"
   ]
  },
  {
   "cell_type": "code",
   "execution_count": 2,
   "metadata": {},
   "outputs": [],
   "source": [
    "#Encrypt a message\n",
    "key=key_gen()"
   ]
  },
  {
   "cell_type": "code",
   "execution_count": 3,
   "metadata": {},
   "outputs": [
    {
     "data": {
      "text/plain": [
       "(17, 7)"
      ]
     },
     "execution_count": 3,
     "metadata": {},
     "output_type": "execute_result"
    }
   ],
   "source": [
    "key"
   ]
  },
  {
   "cell_type": "code",
   "execution_count": 4,
   "metadata": {},
   "outputs": [],
   "source": [
    "c=encrypt(key[0],10)"
   ]
  },
  {
   "cell_type": "code",
   "execution_count": 5,
   "metadata": {},
   "outputs": [
    {
     "data": {
      "text/plain": [
       "(6, 7)"
      ]
     },
     "execution_count": 5,
     "metadata": {},
     "output_type": "execute_result"
    }
   ],
   "source": [
    "c"
   ]
  },
  {
   "cell_type": "code",
   "execution_count": 6,
   "metadata": {},
   "outputs": [],
   "source": [
    "d=decrypt(key[1],c)"
   ]
  },
  {
   "cell_type": "code",
   "execution_count": 7,
   "metadata": {},
   "outputs": [
    {
     "data": {
      "text/plain": [
       "10"
      ]
     },
     "execution_count": 7,
     "metadata": {},
     "output_type": "execute_result"
    }
   ],
   "source": [
    "d"
   ]
  }
 ],
 "metadata": {
  "kernelspec": {
   "display_name": "Python 3",
   "language": "python",
   "name": "python3"
  },
  "language_info": {
   "codemirror_mode": {
    "name": "ipython",
    "version": 3
   },
   "file_extension": ".py",
   "mimetype": "text/x-python",
   "name": "python",
   "nbconvert_exporter": "python",
   "pygments_lexer": "ipython3",
   "version": "3.6.5"
  }
 },
 "nbformat": 4,
 "nbformat_minor": 2
}
