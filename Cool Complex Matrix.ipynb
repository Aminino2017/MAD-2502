{
 "cells": [
  {
   "cell_type": "code",
   "execution_count": 1,
   "metadata": {},
   "outputs": [],
   "source": [
    "def cool_matrix(n):\n",
    "    '''This program returns a really cool matrix involving complex numbers!!!'''\n",
    "    import cmath\n",
    "    import math\n",
    "    t=1j\n",
    "    omega_s=math.e**((-2*(math.pi*(t)))/n)\n",
    "    matrix=[n*[0] for i in range(n)]\n",
    "    print(omega_s)\n",
    "    for i in range (0,n):   \n",
    "        for j in range(0,n):\n",
    "            a=(omega_s**(i*j))/(n**(1/2))\n",
    "            matrix[i][j]=a\n",
    "            matrix[j][i]=a    #I recognize that this is most liekly overkill, but the code works and I'm afraid to touch it\n",
    "            a=1\n",
    "    return matrix"
   ]
  },
  {
   "cell_type": "code",
   "execution_count": 2,
   "metadata": {},
   "outputs": [
    {
     "name": "stdout",
     "output_type": "stream",
     "text": [
      "(-0.4999999999999998-0.8660254037844387j)\n"
     ]
    },
    {
     "data": {
      "text/plain": [
       "[[(0.5773502691896258+0j), (0.5773502691896258+0j), (0.5773502691896258+0j)],\n",
       " [(0.5773502691896258+0j),\n",
       "  (-0.28867513459481275-0.5000000000000001j),\n",
       "  (-0.2886751345948131+0.4999999999999999j)],\n",
       " [(0.5773502691896258+0j),\n",
       "  (-0.2886751345948131+0.4999999999999999j),\n",
       "  (-0.2886751345948125-0.5000000000000002j)]]"
      ]
     },
     "execution_count": 2,
     "metadata": {},
     "output_type": "execute_result"
    }
   ],
   "source": [
    "cool_matrix(3)"
   ]
  }
 ],
 "metadata": {
  "kernelspec": {
   "display_name": "Python 3",
   "language": "python",
   "name": "python3"
  },
  "language_info": {
   "codemirror_mode": {
    "name": "ipython",
    "version": 3
   },
   "file_extension": ".py",
   "mimetype": "text/x-python",
   "name": "python",
   "nbconvert_exporter": "python",
   "pygments_lexer": "ipython3",
   "version": "3.6.5"
  }
 },
 "nbformat": 4,
 "nbformat_minor": 2
}
