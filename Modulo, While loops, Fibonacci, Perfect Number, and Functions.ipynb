{
 "cells": [
  {
   "cell_type": "code",
   "execution_count": null,
   "metadata": {},
   "outputs": [],
   "source": [
    "x=int(input('Enter number here: '))    #if your number is even, print even, if your number is odd, print odd\n",
    "if x%2==0:                          #x5n   modulo n\n",
    "    print('your number is even')    # n==x  means x is equal to n\n",
    "else:                               #if previous statements don't hold true, go fo rthis command\n",
    "    print('your number is odd')"
   ]
  },
  {
   "cell_type": "code",
   "execution_count": null,
   "metadata": {},
   "outputs": [],
   "source": [
    "#goal is to have a program that says if your inputted number is a perfect number\n",
    "#number si equal to the sum of its proper divisors\n",
    "\n",
    "num=int(input('enter your number here: '))\n",
    "sum=0\n",
    "for d in range(1,num):\n",
    "    if num%d == 0:\n",
    "        sum = sum + d                 #can also write sum_so_far+=d\n",
    "if num==sum:\n",
    "    print('Your number is Perfect!!!')\n",
    "else:\n",
    "    print('Your number is not perfect')\n"
   ]
  },
  {
   "cell_type": "code",
   "execution_count": null,
   "metadata": {},
   "outputs": [],
   "source": [
    "#finding all perfect numebrs from 2..100\n",
    "for num in range(2,10001):               \n",
    "    sum=0\n",
    "    for d in range(1,num):\n",
    "        if num%d == 0:\n",
    "            sum = sum + d                 \n",
    "    if num==sum:\n",
    "        print(num)"
   ]
  },
  {
   "cell_type": "markdown",
   "metadata": {},
   "source": [
    "While loops: while the given condition holds, do what is underneath.\n",
    "The for-loop requires us to know in advance teh range  on which we will itterate.\n",
    "The while loop can handle more general settings."
   ]
  },
  {
   "cell_type": "code",
   "execution_count": null,
   "metadata": {},
   "outputs": [],
   "source": [
    "#while (condition):\n",
    "    #<loop body>\n",
    "#smallest power of three larger than 1000\n",
    "#power=0\n",
    "#while 3**n < 1000:\n",
    "#    for n in range(1,n):\n",
    "#        if 3**n > 1000:\n",
    "#            power=3**n\n",
    "#print(3**n)\n",
    "\n",
    "\n",
    "product=1\n",
    "exponent=0\n",
    "while product<1000:\n",
    "    product*=3   #product=product*3\n",
    "    exponent+=1\n",
    "print(exponent)\n",
    "print(3**exponent)"
   ]
  },
  {
   "cell_type": "markdown",
   "metadata": {},
   "source": [
    "Functions:\n",
    "    To organize more complex programs, we use functions"
   ]
  },
  {
   "cell_type": "code",
   "execution_count": null,
   "metadata": {},
   "outputs": [],
   "source": [
    "#def function_name(arguments):\n",
    "    #<commands>\n",
    "    #return <result>\n",
    "\n",
    "def triangle(x,y):\n",
    "    '''This function will give you the area of a tringle with a given base and height'''\n",
    "    area=x*y/2      #'''Text'''  will give a doc string with text\n",
    "    return area     #the function is now defined\n",
    "triangle(1,1)       #add the values of the function, the results are now given\n",
    "                    #returning valeus is not the same as printing\n",
    "                    #if you beign writing a function, press tab to autocomplete\n",
    "                    #within one function you can call upon another function"
   ]
  },
  {
   "cell_type": "markdown",
   "metadata": {},
   "source": [
    "let us write a function fib(n) whcih on input (n) in the positive natural numebrs returns the n-th Fibonacci number \n",
    "0,1,1,2,3,5,8,13\n",
    "seq=[0,1]\n",
    "seq.append(element) takes whatever element you want and adds it to the end of the list"
   ]
  },
  {
   "cell_type": "code",
   "execution_count": null,
   "metadata": {},
   "outputs": [],
   "source": [
    "def fib(n):\n",
    "    second_to_last=0\n",
    "    last=1\n",
    "    current=1\n",
    "    for r in range(0,n):\n",
    "        if n==0:\n",
    "            current=0\n",
    "        if n==1:\n",
    "            current=1\n",
    "        else:\n",
    "            current= second_to_last + last"
   ]
  },
  {
   "cell_type": "markdown",
   "metadata": {},
   "source": [
    "a,b=b,a+b    #assign both variables simultaneously"
   ]
  }
 ],
 "metadata": {
  "kernelspec": {
   "display_name": "Python 3",
   "language": "python",
   "name": "python3"
  },
  "language_info": {
   "codemirror_mode": {
    "name": "ipython",
    "version": 3
   },
   "file_extension": ".py",
   "mimetype": "text/x-python",
   "name": "python",
   "nbconvert_exporter": "python",
   "pygments_lexer": "ipython3",
   "version": "3.6.5"
  }
 },
 "nbformat": 4,
 "nbformat_minor": 2
}
