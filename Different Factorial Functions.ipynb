{
 "cells": [
  {
   "cell_type": "markdown",
   "metadata": {},
   "source": [
    "Write four functions to compute the factorial n! of a non-negative integer n:\n",
    "\n",
    "1)func1(n) must use a for-loop, no while-loop, and no recursion.\n",
    "\n",
    "2)func2(n) must use no for-loop, a while-loop, and no recursion.\n",
    "\n",
    "3)func3(n) must use no for-loop, no while-loop, but recursion.\n",
    "\n",
    "4)func4(n) builds a list [1...n] and applies the reduce command from the functools module to this list to find n!."
   ]
  },
  {
   "cell_type": "code",
   "execution_count": null,
   "metadata": {},
   "outputs": [],
   "source": [
    "from functools import reduce\n",
    "def func1(n):\n",
    "    if n==0:\n",
    "        return 1\n",
    "    result=1\n",
    "    for i in range(1,n+1):\n",
    "        result*=i\n",
    "    return result\n",
    "\n",
    "def func2(n):\n",
    "    if n==0:\n",
    "        return 1\n",
    "    result=1\n",
    "    i=1\n",
    "    while i<=n:\n",
    "        result*=i\n",
    "        i+=1\n",
    "    return result\n",
    "\n",
    "def func3(n):\n",
    "    if n==0:   #base case\n",
    "        return 1\n",
    "    else:\n",
    "        result= n * func3(n-1)  #keep multiplying by the next smallest integer, until base case is reached\n",
    "    return result\n",
    "\n",
    "def func4(n):\n",
    "    if n==0:\n",
    "        return 1\n",
    "    s=[]\n",
    "    for i in range(1,n+1):\n",
    "        s.append(i) #append c=[] \n",
    "    return reduce((lambda a,b:a*b),s) #multiply first two with each other, multiply result with subsequent entries"
   ]
  }
 ],
 "metadata": {
  "kernelspec": {
   "display_name": "Python 3",
   "language": "python",
   "name": "python3"
  },
  "language_info": {
   "codemirror_mode": {
    "name": "ipython",
    "version": 3
   },
   "file_extension": ".py",
   "mimetype": "text/x-python",
   "name": "python",
   "nbconvert_exporter": "python",
   "pygments_lexer": "ipython3",
   "version": "3.6.5"
  }
 },
 "nbformat": 4,
 "nbformat_minor": 2
}
