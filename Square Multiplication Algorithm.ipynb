{
 "cells": [
  {
   "cell_type": "markdown",
   "metadata": {},
   "source": [
    "Square Multiplication Algorithm\n",
    "    -Exponentiation: 3^5, 4^10, N^32, and so on\n",
    "    -Direct way: Multiply the base over and over again. FOr small base and small exponent, it does not consume a lot of computation.\n",
    "    -A more effective technique is called the SQUARE AND MULTIPLY ALGORITHIM\n",
    "    -How it works\n",
    "        1. Convert the exponenet into binary form\n",
    "        2. For the first 1, simply list the number (base)\n",
    "        3. For each ensuing 0, do square operation\n",
    "        4. For each ensuing 2, do square and multiply operations (multiply by base)\n",
    "    -Counting the number of operations: ignore the left-most binary 1. Count each binary 0 as one operation, count each binary 1 as two operations.\n",
    "    -ex: 5 ==> 101 ==> 3 calculations\n",
    "    -ex: 37 ==> 100101 ==> 7 calculations-"
   ]
  },
  {
   "cell_type": "code",
   "execution_count": null,
   "metadata": {},
   "outputs": [],
   "source": [
    "def Square_multiply(base,exponent):\n",
    "    binaryExponent = []\n",
    "    while exponent != 0:\n",
    "        binaryExponent.append(exponent%2)\n",
    "        exponent = exponent//2   #gives remainder after division\n",
    "    result=1                     #initialize the result\n",
    "    binaryExponent.reverse()      #move list to proper order\n",
    "    for i in binaryExponent:\n",
    "        if i==0:                        #if the ith bit is 0\n",
    "            result=result*result        #square\n",
    "        if ==1:                         #if the ith bit is 1\n",
    "            result=result*result*base   #square and multiply by base\n",
    "    return result\n",
    "        "
   ]
  },
  {
   "cell_type": "markdown",
   "metadata": {},
   "source": [
    "For fast computation of large positive integer powers of a number, exponentiating by squaring is a general method"
   ]
  },
  {
   "cell_type": "code",
   "execution_count": null,
   "metadata": {},
   "outputs": [],
   "source": [
    "def exp_by_squaring(x,n):\n",
    "    if n<0:\n",
    "        return exp_by_squaring(1/x,-n)\n",
    "    if n==0:\n",
    "        return 1\n",
    "    if n==1:\n",
    "        return x\n",
    "    if n%2==0:\n",
    "        return exp_by_squaring(x*x,n/2)\n",
    "    if n%2==1:\n",
    "        return exp_by_squaring(x*x,(n-1)/2)*x"
   ]
  },
  {
   "cell_type": "code",
   "execution_count": 1,
   "metadata": {},
   "outputs": [],
   "source": [
    "def mul_mat(m1, m2):\n",
    "    '''multiplies two matrices represented as list of lists'''\n",
    "    row = len(m1)\n",
    "    col = len(m2[0])\n",
    "    m3 = [col*[0] for i in range(row)]\n",
    "\n",
    "    for i in range(row):\n",
    "        for j in range(col):\n",
    "            for k in range(len(m1[0])):\n",
    "                m3[i][j] = m3[i][j] + (m1[i][k] * m2[k][j])\n",
    "\n",
    "    return m3\n",
    "\n",
    "def mat_exp(m1, n):\n",
    "    '''compute m1^n with n being positive integer'''\n",
    "    if n==0:    # if n is 0, return the identity matrix\n",
    "        size=len[m1]\n",
    "        return [0*i+[1]+0*(size-i-1) for i in range(size)]\n",
    "    if n==1:\n",
    "        return m1\n",
    "    if n%2==0:\n",
    "        return mat_exp(mul_mat(m1,m1), n/2)\n",
    "    if n%2==1:\n",
    "        return mul_mat(mat_exp(mul_mat(m1,m1), (n-1)/2),m1)"
   ]
  },
  {
   "cell_type": "code",
   "execution_count": null,
   "metadata": {},
   "outputs": [],
   "source": [
    "r=[[1,1,1],[1,1,1],[1,1,1]]\n",
    "mat_exp(r,3)"
   ]
  }
 ],
 "metadata": {
  "kernelspec": {
   "display_name": "Python 3",
   "language": "python",
   "name": "python3"
  },
  "language_info": {
   "codemirror_mode": {
    "name": "ipython",
    "version": 3
   },
   "file_extension": ".py",
   "mimetype": "text/x-python",
   "name": "python",
   "nbconvert_exporter": "python",
   "pygments_lexer": "ipython3",
   "version": "3.6.5"
  }
 },
 "nbformat": 4,
 "nbformat_minor": 2
}
