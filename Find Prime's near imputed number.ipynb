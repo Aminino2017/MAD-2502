{
 "cells": [
  {
   "cell_type": "markdown",
   "metadata": {},
   "source": [
    "Write a Python function nearbyPrime(n) which on input a non-negative integer n returns the prime number(s) closest to n. For instance, nearbyPrime(3) must return 3, nearbyPrime(18) must return (17,19), and nearbyPrime(10) must return 11."
   ]
  },
  {
   "cell_type": "code",
   "execution_count": null,
   "metadata": {},
   "outputs": [],
   "source": [
    "def is_prime(m):\n",
    "    '''return True if and only if n is a prime number'''\n",
    "    n=abs(m)\n",
    "    if n==1:\n",
    "        return False\n",
    "    if n%2==0 and n>2:\n",
    "        return False\n",
    "    a=True\n",
    "    for i in range(3,int(n**(1/2)+1),2):\n",
    "        if n%i==0:\n",
    "            a=False\n",
    "            break\n",
    "    return a\n",
    "\n",
    "def nearbyPrime(n):\n",
    "    distance=0\n",
    "    solution=set()\n",
    "    while len(solution)==0:\n",
    "        if is_prime(n-distance):\n",
    "            solution |= {n-distance}      # |= unionize\n",
    "        if is_prime(n+distance):\n",
    "            solution |= {n-distance}      #unionize\n",
    "            distance+=1\n",
    "    solution=tuple(solution)\n",
    "    if len(solution)==2:\n",
    "        return solution\n",
    "    else:\n",
    "        return solution(0)"
   ]
  }
 ],
 "metadata": {
  "kernelspec": {
   "display_name": "Python 3",
   "language": "python",
   "name": "python3"
  },
  "language_info": {
   "codemirror_mode": {
    "name": "ipython",
    "version": 3
   },
   "file_extension": ".py",
   "mimetype": "text/x-python",
   "name": "python",
   "nbconvert_exporter": "python",
   "pygments_lexer": "ipython3",
   "version": "3.6.5"
  }
 },
 "nbformat": 4,
 "nbformat_minor": 2
}
