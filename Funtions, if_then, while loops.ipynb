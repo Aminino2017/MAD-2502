{
 "cells": [
  {
   "cell_type": "code",
   "execution_count": 1,
   "metadata": {},
   "outputs": [
    {
     "data": {
      "text/plain": [
       "0.5"
      ]
     },
     "execution_count": 1,
     "metadata": {},
     "output_type": "execute_result"
    }
   ],
   "source": [
    "#Fucntions allow us to organize more complex programs\n",
    "#def function_name(arguments):\n",
    "    #<commands>\n",
    "    #return <result>\n",
    "\n",
    "def triangle(x,y):\n",
    "    '''This function will give you the area of a tringle with a given base and height'''\n",
    "    area=x*y/2      #'''Text'''  will give a doc string with text\n",
    "    return area     #the function is now defined\n",
    "triangle(1,1)       #add the values of the function, the results are now given\n",
    "                    #returning valeus is not the same as printing\n",
    "                    #if you beign writing a function, press tab to autocomplete\n",
    "                    #within one function you can call upon another function"
   ]
  },
  {
   "cell_type": "code",
   "execution_count": null,
   "metadata": {},
   "outputs": [],
   "source": []
  },
  {
   "cell_type": "code",
   "execution_count": 1,
   "metadata": {},
   "outputs": [],
   "source": [
    "def fib(n):\n",
    "    '''compute the n-th Fibonacci number'''\n",
    "    if n==0:\n",
    "        return 0\n",
    "    if n==1:\n",
    "        return 1\n",
    "    number=1\n",
    "    a=0\n",
    "    b=1\n",
    "    #for i in range(n-1):\n",
    "    while number<=n:\n",
    "        a,b=b,a+b\n",
    "        number+=1\n",
    "    return a"
   ]
  },
  {
   "cell_type": "code",
   "execution_count": 6,
   "metadata": {},
   "outputs": [],
   "source": [
    "def fib_rec(n): #Recursion\n",
    "    '''compute the n-th Fibonacci number'''\n",
    "    \n",
    "    if n==0:\n",
    "        return 0\n",
    "    if n==1:\n",
    "        return 1\n",
    "    \n",
    "    return fib_rec(n-1)+fib_rec(n-2)   #function calls itself, and it calls a smaller problem, F(n)=F(n-1)+F(n-2)"
   ]
  },
  {
   "cell_type": "code",
   "execution_count": 7,
   "metadata": {},
   "outputs": [
    {
     "data": {
      "text/plain": [
       "5"
      ]
     },
     "execution_count": 7,
     "metadata": {},
     "output_type": "execute_result"
    }
   ],
   "source": [
    "fib(5)"
   ]
  },
  {
   "cell_type": "markdown",
   "metadata": {},
   "source": [
    "A recursive function is a function that calls itself\n",
    "in fib_rec(3), we call to fib_rec(2) and fib_rec(1)\n",
    "\n",
    "fib_rec(2) then calls on fib_rec(1) and fib_rec(0)\n",
    "\n",
    "fib_rec(1) occurs twice, it's all added into fib_rec(3)"
   ]
  },
  {
   "cell_type": "markdown",
   "metadata": {},
   "source": [
    "function can have multiple arguments\n",
    "default function\n",
    "    if I don't say otherwise, give certain value"
   ]
  },
  {
   "cell_type": "code",
   "execution_count": 8,
   "metadata": {},
   "outputs": [],
   "source": [
    "#a function where it makes a difference in which order\n",
    "#we arrange the arguments\n",
    "def distance(a,t):\n",
    "    '''returns distance covered by an object with acceleration a after time t'''\n",
    "    result=0.5*a*(t**2)\n",
    "    return result  #allows you to assign the value that comes from result onto a variable"
   ]
  },
  {
   "cell_type": "code",
   "execution_count": 9,
   "metadata": {},
   "outputs": [
    {
     "data": {
      "text/plain": [
       "20.0"
      ]
     },
     "execution_count": 9,
     "metadata": {},
     "output_type": "execute_result"
    }
   ],
   "source": [
    "distance(10,2)"
   ]
  },
  {
   "cell_type": "code",
   "execution_count": 10,
   "metadata": {},
   "outputs": [
    {
     "data": {
      "text/plain": [
       "100.0"
      ]
     },
     "execution_count": 10,
     "metadata": {},
     "output_type": "execute_result"
    }
   ],
   "source": [
    "distance(2,10)"
   ]
  },
  {
   "cell_type": "code",
   "execution_count": 11,
   "metadata": {},
   "outputs": [
    {
     "data": {
      "text/plain": [
       "100.0"
      ]
     },
     "execution_count": 11,
     "metadata": {},
     "output_type": "execute_result"
    }
   ],
   "source": [
    "distance(t=10,a=2)"
   ]
  },
  {
   "cell_type": "code",
   "execution_count": 12,
   "metadata": {},
   "outputs": [],
   "source": [
    "def dist(x1,y1,x2,y2):\n",
    "    '''computes the distance between two points, (x1,y1) and (x2,y2)'''\n",
    "    result = ( ((x1-x2)**2) + (y1-y2)**2 )**(0.5)\n",
    "    return result"
   ]
  },
  {
   "cell_type": "code",
   "execution_count": 13,
   "metadata": {},
   "outputs": [
    {
     "data": {
      "text/plain": [
       "2.8284271247461903"
      ]
     },
     "execution_count": 13,
     "metadata": {},
     "output_type": "execute_result"
    }
   ],
   "source": [
    "dist(1,2,3,4)"
   ]
  },
  {
   "cell_type": "markdown",
   "metadata": {},
   "source": [
    "#p1(x,y) =input('enter first point as (x,y): ', )"
   ]
  },
  {
   "cell_type": "code",
   "execution_count": 18,
   "metadata": {},
   "outputs": [],
   "source": [
    "#to compute gcd, have an itteration that checks the integers to find out what divides both\n",
    "#gcd can also be computed take one number, subtract the other number, the gcd hasnt changed\n",
    "#disceret math, take larger, subtract the smaller from it\n",
    "#euclidean algorithim\n",
    "def euclidean_gcd(a,b):\n",
    "    while b!= 0:  # != is not equal\n",
    "        t= b\n",
    "        b=a%b\n",
    "        a=t\n",
    "    return a"
   ]
  },
  {
   "cell_type": "code",
   "execution_count": 19,
   "metadata": {},
   "outputs": [
    {
     "data": {
      "text/plain": [
       "10"
      ]
     },
     "execution_count": 19,
     "metadata": {},
     "output_type": "execute_result"
    }
   ],
   "source": [
    "euclidean_gcd(10,20)"
   ]
  },
  {
   "cell_type": "code",
   "execution_count": 20,
   "metadata": {},
   "outputs": [
    {
     "data": {
      "text/plain": [
       "5"
      ]
     },
     "execution_count": 20,
     "metadata": {},
     "output_type": "execute_result"
    }
   ],
   "source": [
    "euclidean_gcd(15,20)"
   ]
  },
  {
   "cell_type": "code",
   "execution_count": 27,
   "metadata": {},
   "outputs": [],
   "source": [
    "def gcd(a,b):\n",
    "    if b==0:\n",
    "        return a\n",
    "    else:\n",
    "        return gcd(b, a%b)  # a%b == a mod b"
   ]
  },
  {
   "cell_type": "code",
   "execution_count": 28,
   "metadata": {},
   "outputs": [
    {
     "data": {
      "text/plain": [
       "5"
      ]
     },
     "execution_count": 28,
     "metadata": {},
     "output_type": "execute_result"
    }
   ],
   "source": [
    "gcd(10,15)"
   ]
  },
  {
   "cell_type": "code",
   "execution_count": 1,
   "metadata": {},
   "outputs": [
    {
     "data": {
      "text/plain": [
       "4"
      ]
     },
     "execution_count": 1,
     "metadata": {},
     "output_type": "execute_result"
    }
   ],
   "source": [
    "abs(-4) #absolute value"
   ]
  },
  {
   "cell_type": "markdown",
   "metadata": {},
   "source": [
    "Aguemnts of functions in python are not restrictive to numbers, strings, or lists only\n",
    "\n",
    "We can have 'more complex' argument types, e.g., functions, as arguments\n",
    "\n",
    "As an example, let us implement Newton's method:"
   ]
  },
  {
   "cell_type": "code",
   "execution_count": 2,
   "metadata": {},
   "outputs": [],
   "source": [
    "#Newton's method for aproximating a root of a function\n",
    "#Given a function f: R->R, its derivative f':R->R, and an initial guess x0 in R\n",
    "#We repeatedly apply the following rule to refine the guess:\n",
    "#x_(n+1) = x_n -(f(x_n)/f'(x_n))\n",
    "#This is repeated untill |f(x_(n+1))| < epsilon for some threshold near 0\n",
    "\n",
    "def test(x):\n",
    "    '''x**2-612'''\n",
    "    return x**2-612\n",
    "def dtestdx(x):\n",
    "    '''2*x'''\n",
    "    return 2*x\n",
    "def newton(f,dfdx,x0,epsilon):\n",
    "    '''Apply Newton's Method to f with intial guess x0'''\n",
    "    x=x0\n",
    "    #f(x)=test(x)\n",
    "    #dfdx(x)=dtest(x)\n",
    "    \n",
    "    \n",
    "    while abs(f(x)) > epsilon: #error of my approximation\n",
    "        x = x-f(x)/dfdx(x)\n",
    "        \n",
    "    return x    "
   ]
  },
  {
   "cell_type": "code",
   "execution_count": 3,
   "metadata": {},
   "outputs": [],
   "source": [
    "a=newton(test,dtestdx,10,0.00001)"
   ]
  },
  {
   "cell_type": "code",
   "execution_count": 4,
   "metadata": {},
   "outputs": [
    {
     "name": "stdout",
     "output_type": "stream",
     "text": [
      "24.738633753766084\n"
     ]
    },
    {
     "data": {
      "text/plain": [
       "612.0000000029746"
      ]
     },
     "execution_count": 4,
     "metadata": {},
     "output_type": "execute_result"
    }
   ],
   "source": [
    "print(a)\n",
    "a**2"
   ]
  },
  {
   "cell_type": "code",
   "execution_count": 5,
   "metadata": {},
   "outputs": [],
   "source": [
    "import math #imports math functions to allow for use in python"
   ]
  },
  {
   "cell_type": "code",
   "execution_count": 6,
   "metadata": {},
   "outputs": [
    {
     "data": {
      "text/plain": [
       "-0.8390715290764524"
      ]
     },
     "execution_count": 6,
     "metadata": {},
     "output_type": "execute_result"
    }
   ],
   "source": [
    "math.cos(10) #from math module, use the cos() function\n",
    "\n",
    "#from math import cos, sin,    import specific functions\n",
    "#from math import *    import everything\n",
    "\n",
    "#f the functions considered involve trigonometric functions, \n",
    "#we can inport these:\n",
    "    #import math => math.sin(42)\n",
    "    #from math import sin => sin(42)"
   ]
  },
  {
   "cell_type": "code",
   "execution_count": null,
   "metadata": {},
   "outputs": [],
   "source": []
  }
 ],
 "metadata": {
  "kernelspec": {
   "display_name": "Python 3",
   "language": "python",
   "name": "python3"
  },
  "language_info": {
   "codemirror_mode": {
    "name": "ipython",
    "version": 3
   },
   "file_extension": ".py",
   "mimetype": "text/x-python",
   "name": "python",
   "nbconvert_exporter": "python",
   "pygments_lexer": "ipython3",
   "version": "3.6.5"
  }
 },
 "nbformat": 4,
 "nbformat_minor": 2
}
