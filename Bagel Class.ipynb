{
 "cells": [
  {
   "cell_type": "code",
   "execution_count": 1,
   "metadata": {},
   "outputs": [],
   "source": [
    "#Create a class describing a bag of bagels\n",
    "#each bag can contain no more than 12 bagels\n",
    "#we can add bags if hte total number is <=12, otehrwise a ValueErro is raised\n",
    "#converting a bagel baf to astring should produce \"a dozen bagels,\" \"half dozen bagels,\" \"empty,\" for 12,6,0. \n",
    "#ALl other cases the output should be something of the form \"n bagels\"\n",
    "\n",
    "class BagelBag:\n",
    "    def __init__(self,n):\n",
    "        if n <0 or n>12 or type(n)!=int:\n",
    "            raise ValueError('number of bagels must be an integer from range 0...12')\n",
    "        self.bagels=n\n",
    "        \n",
    "    def __add__(self,other):\n",
    "        if self.bagels+other.bagels>12:\n",
    "            raise ValueError('sum of bagels must be less than or equal to 12')\n",
    "        return BagelBag(self.bagels+other.bagels)\n",
    "    \n",
    "    \n",
    "    def __str__(self):\n",
    "        if self.bagels==0:\n",
    "            return 'empty'\n",
    "        if self.bagels==6:\n",
    "            return 'half a dozen bagels'\n",
    "        if self.bagels==12:\n",
    "            return 'a dozen bagels'\n",
    "        return str(self.bagels) + ' bagel' +(\"s\" if self.bagels>1 else \"\")\n",
    "        "
   ]
  },
  {
   "cell_type": "code",
   "execution_count": 2,
   "metadata": {},
   "outputs": [
    {
     "data": {
      "text/plain": [
       "'1 bagel'"
      ]
     },
     "execution_count": 2,
     "metadata": {},
     "output_type": "execute_result"
    }
   ],
   "source": [
    "s=BagelBag(0)\n",
    "r=BagelBag(1)\n",
    "str(s+r)"
   ]
  },
  {
   "cell_type": "code",
   "execution_count": null,
   "metadata": {},
   "outputs": [],
   "source": []
  }
 ],
 "metadata": {
  "kernelspec": {
   "display_name": "Python 3",
   "language": "python",
   "name": "python3"
  },
  "language_info": {
   "codemirror_mode": {
    "name": "ipython",
    "version": 3
   },
   "file_extension": ".py",
   "mimetype": "text/x-python",
   "name": "python",
   "nbconvert_exporter": "python",
   "pygments_lexer": "ipython3",
   "version": "3.6.5"
  }
 },
 "nbformat": 4,
 "nbformat_minor": 2
}
