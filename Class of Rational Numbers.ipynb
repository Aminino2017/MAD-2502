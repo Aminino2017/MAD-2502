{
 "cells": [
  {
   "cell_type": "code",
   "execution_count": null,
   "metadata": {},
   "outputs": [],
   "source": [
    "def GCD(a,b):\n",
    "    while b!=0:\n",
    "        t=b\n",
    "        b=a%b\n",
    "        a=t\n",
    "    return a \n",
    "    \n",
    "class Rational:\n",
    "    def __init__(self,n,d):\n",
    "        '''construct a rational number in the lowest term'''\n",
    "        if d==0:\n",
    "            raise ZeroDivisionError('Denominator of a rational may not be zero.')\n",
    "        else:\n",
    "            g=GCD(n,d)\n",
    "            self.n=n/g      #holds negative values in the numerator\n",
    "            self.d=d/g\n",
    "            \n",
    "    def __add__(self,other):\n",
    "        '''add two rational numbers'''\n",
    "        return Rational(self.n*other.d + other.n*self.d, self.d*other.d)\n",
    "    \n",
    "    def __sub__(self,other):\n",
    "        '''subtract two rational numbers'''\n",
    "        return Rational(self.n*other.d - other.n*self.d, self.d*other.d)\n",
    "    \n",
    "    def __mul__(self,other):\n",
    "        '''multiply two rational numbers'''\n",
    "        return Rational(self.n*other.n, self.d*other.d)\n",
    "    \n",
    "    def __truediv__(self,other):\n",
    "        '''divide two rational numbers'''\n",
    "        return Rational( self.n*other.d, self.d*other.n) \n",
    "                        \n",
    "    def __eq__(self,other):\n",
    "        '''check if two rational numbers are equivalent'''\n",
    "        if (self.n*other.d == self.d*other.n):\n",
    "            return True\n",
    "        else:\n",
    "            return False\n",
    "        \n",
    "    def __le__(self,other):\n",
    "        '''<= for fractions'''\n",
    "        self_float=(self.n/self.d)\n",
    "        other_float=(other.n/other.d)\n",
    "        return(self_float<=other_float)\n",
    "    \n",
    "    def __str__(self):\n",
    "        '''convert a fraction to a string'''\n",
    "        return str(int(self.n)) + '/' + str(int(self.d))\n",
    "    \n",
    "    def __repr__(self):\n",
    "        '''Python representation of a fraction'''\n",
    "        return 'Rational('+str(int(self.n))+',' +str(int(self.d))+')'\n",
    "\n",
    "    "
   ]
  }
 ],
 "metadata": {
  "kernelspec": {
   "display_name": "Python 3",
   "language": "python",
   "name": "python3"
  },
  "language_info": {
   "codemirror_mode": {
    "name": "ipython",
    "version": 3
   },
   "file_extension": ".py",
   "mimetype": "text/x-python",
   "name": "python",
   "nbconvert_exporter": "python",
   "pygments_lexer": "ipython3",
   "version": "3.6.5"
  }
 },
 "nbformat": 4,
 "nbformat_minor": 2
}
