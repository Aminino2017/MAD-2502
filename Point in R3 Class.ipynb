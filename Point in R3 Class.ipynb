{
 "cells": [
  {
   "cell_type": "code",
   "execution_count": 4,
   "metadata": {},
   "outputs": [],
   "source": [
    "class Point3D:\n",
    "    def __init__(self,x,y,z):\n",
    "        '''initialize a point in RxRxR'''\n",
    "        self.x=x\n",
    "        self.y=y\n",
    "        self.z=z\n",
    "    def distance(self, p2):  #self holds x,y,z\n",
    "        '''compute the distance to another point'''\n",
    "        d=((self.x-p2.x)**2 + (self.y-p2.x)**2 + (self.z-p2.z)**2)**0.5\n",
    "        return d\n",
    "    def shift(self, shx,shy,shz):\n",
    "        '''shift point by specified offset'''\n",
    "        newx=self.x + shx\n",
    "        newy=self.y + shy\n",
    "        newz=self.z + shz\n",
    "        new_point=Point3D(newx,newy,newz)"
   ]
  },
  {
   "cell_type": "code",
   "execution_count": 5,
   "metadata": {},
   "outputs": [
    {
     "name": "stdout",
     "output_type": "stream",
     "text": [
      "p: <__main__.Point3D object at 0x000002BCCA1D4B70> q: <__main__.Point3D object at 0x000002BCCA1D4BA8>\n",
      "distance from p to q: 1.0\n",
      "the shifted point is None\n"
     ]
    }
   ],
   "source": [
    "p=Point3D(0,0,1) \n",
    "q=Point3D(0,0,2)\n",
    "print('p:',p,'q:', q)\n",
    "d=p.distance(q)\n",
    "print('distance from p to q:',d) #apply distance method, self is p, q is p2\n",
    "n=p.shift(2,6,5)\n",
    "print('the shifted point is',n)\n"
   ]
  },
  {
   "cell_type": "code",
   "execution_count": null,
   "metadata": {},
   "outputs": [],
   "source": []
  }
 ],
 "metadata": {
  "kernelspec": {
   "display_name": "Python 3",
   "language": "python",
   "name": "python3"
  },
  "language_info": {
   "codemirror_mode": {
    "name": "ipython",
    "version": 3
   },
   "file_extension": ".py",
   "mimetype": "text/x-python",
   "name": "python",
   "nbconvert_exporter": "python",
   "pygments_lexer": "ipython3",
   "version": "3.6.5"
  }
 },
 "nbformat": 4,
 "nbformat_minor": 2
}
