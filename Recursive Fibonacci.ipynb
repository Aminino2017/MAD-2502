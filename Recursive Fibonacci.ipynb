{
 "cells": [
  {
   "cell_type": "code",
   "execution_count": 1,
   "metadata": {},
   "outputs": [],
   "source": [
    "def fib(n, memory=dict({0:0, 1:1})):\n",
    "    '''recursive Fibonacci'''\n",
    "    if n in memory:\n",
    "        return memory[n]\n",
    "  \n",
    "    new = fib(n-1) + fib(n-2)\n",
    "    memory[n] = new\n",
    "  \n",
    "    return new"
   ]
  },
  {
   "cell_type": "code",
   "execution_count": 2,
   "metadata": {},
   "outputs": [
    {
     "name": "stdout",
     "output_type": "stream",
     "text": [
      "0\n",
      "1\n",
      "1\n",
      "2\n",
      "3\n",
      "5\n",
      "8\n",
      "13\n",
      "21\n",
      "34\n"
     ]
    }
   ],
   "source": [
    "for i in range(10):\n",
    "    print(fib(i))"
   ]
  },
  {
   "cell_type": "markdown",
   "metadata": {},
   "source": [
    "## Notice that the memory argument is not being called (copied) each time. It is more efficient to not copy things extraneously\n",
    "    \n",
    "    def fib(n, memory=dict({0:0, 1:1})):\n",
    "        '''recursive Fibonacci'''\n",
    "  \n",
    "        if n in memory:\n",
    "            return memory[n]\n",
    "        new = fib(n-1, memory) + fib(n-2, memory)\n",
    "        memory[n] = new\n",
    "        return new"
   ]
  },
  {
   "cell_type": "code",
   "execution_count": null,
   "metadata": {},
   "outputs": [],
   "source": []
  }
 ],
 "metadata": {
  "kernelspec": {
   "display_name": "Python 3",
   "language": "python",
   "name": "python3"
  },
  "language_info": {
   "codemirror_mode": {
    "name": "ipython",
    "version": 3
   },
   "file_extension": ".py",
   "mimetype": "text/x-python",
   "name": "python",
   "nbconvert_exporter": "python",
   "pygments_lexer": "ipython3",
   "version": "3.6.5"
  }
 },
 "nbformat": 4,
 "nbformat_minor": 2
}
