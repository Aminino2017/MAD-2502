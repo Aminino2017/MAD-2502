{
 "cells": [
  {
   "cell_type": "code",
   "execution_count": 1,
   "metadata": {},
   "outputs": [],
   "source": [
    "def if_prime(n):\n",
    "    '''return True if and only if a number is prime'''\n",
    "    n=abs(n)\n",
    "    import math\n",
    "    r=math.floor(math.sqrt(n))\n",
    "    a=True\n",
    "    if n==1:\n",
    "        return False\n",
    "    for i in range(2, r+1):\n",
    "        if n%i==0:\n",
    "            a=False\n",
    "    return a"
   ]
  },
  {
   "cell_type": "code",
   "execution_count": 2,
   "metadata": {},
   "outputs": [
    {
     "data": {
      "text/plain": [
       "False"
      ]
     },
     "execution_count": 2,
     "metadata": {},
     "output_type": "execute_result"
    }
   ],
   "source": [
    "if_prime(4)"
   ]
  },
  {
   "cell_type": "code",
   "execution_count": null,
   "metadata": {},
   "outputs": [],
   "source": [
    "def is_prime(m):\n",
    "    '''return True if and only if n is a prime number'''\n",
    "    n=abs(m)\n",
    "    if n==1:\n",
    "        return False\n",
    "    if n%2==0 and n>2:\n",
    "        return False\n",
    "    \n",
    "    a=True\n",
    "    for i in range(3,int(n**(1/2)+1),2):\n",
    "        if n%i==0:\n",
    "            a=False\n",
    "            break\n",
    "    return a"
   ]
  }
 ],
 "metadata": {
  "kernelspec": {
   "display_name": "Python 3",
   "language": "python",
   "name": "python3"
  },
  "language_info": {
   "codemirror_mode": {
    "name": "ipython",
    "version": 3
   },
   "file_extension": ".py",
   "mimetype": "text/x-python",
   "name": "python",
   "nbconvert_exporter": "python",
   "pygments_lexer": "ipython3",
   "version": "3.6.5"
  }
 },
 "nbformat": 4,
 "nbformat_minor": 2
}
