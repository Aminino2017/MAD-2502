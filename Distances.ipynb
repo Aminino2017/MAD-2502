{
 "cells": [
  {
   "cell_type": "code",
   "execution_count": 1,
   "metadata": {},
   "outputs": [],
   "source": [
    "#a function where it makes a difference in which order\n",
    "#we arrange the arguments\n",
    "def distance(a,t):\n",
    "    '''returns distance covered by an object with acceleration a after time t'''\n",
    "    result=0.5*a*(t**2)\n",
    "    return result  #allows you to assign the value that comes from result onto a variable"
   ]
  },
  {
   "cell_type": "code",
   "execution_count": null,
   "metadata": {},
   "outputs": [],
   "source": [
    "def dist(x1,y1,x2,y2):\n",
    "    '''computes the distance between two points, (x1,y1) and (x2,y2)'''\n",
    "    result = ( ((x1-x2)**2) + (y1-y2)**2 )**(0.5)\n",
    "    return result"
   ]
  }
 ],
 "metadata": {
  "kernelspec": {
   "display_name": "Python 3",
   "language": "python",
   "name": "python3"
  },
  "language_info": {
   "codemirror_mode": {
    "name": "ipython",
    "version": 3
   },
   "file_extension": ".py",
   "mimetype": "text/x-python",
   "name": "python",
   "nbconvert_exporter": "python",
   "pygments_lexer": "ipython3",
   "version": "3.6.5"
  }
 },
 "nbformat": 4,
 "nbformat_minor": 2
}
