{
 "cells": [
  {
   "cell_type": "code",
   "execution_count": 1,
   "metadata": {},
   "outputs": [],
   "source": [
    "class Derivative(object):  #object says this object will be in the derivative class\n",
    "    '''find the derivative of a given function'''\n",
    "    \n",
    "    def __init__(self,f,h=10**-5):\n",
    "        self.f=f\n",
    "        self.h=float(h)\n",
    "    \n",
    "    def __call__(self,x):  #you can evaluate self(x) to approximate the derivative of the function at x\n",
    "        f,h=self.f,self.h\n",
    "        return ( f(x+h)-f(x) )/h\n",
    "    \n",
    "def riemann_sum(f,a,b,n=1000):\n",
    "    '''Riemann sum for the function f on the interval [a,b] with n rectangle'''\n",
    "    if n<1:\n",
    "        raise ValueError('number of rectangles must be positive')\n",
    "    delta_x=(b-a)/n\n",
    "    area=sum( delta_x*f( a+delta_x/2 +i*delta_x ) for i in range(n) )\n",
    "    return area"
   ]
  },
  {
   "cell_type": "code",
   "execution_count": 2,
   "metadata": {},
   "outputs": [
    {
     "data": {
      "text/plain": [
       "-0.9999999999898844"
      ]
     },
     "execution_count": 2,
     "metadata": {},
     "output_type": "execute_result"
    }
   ],
   "source": [
    "from math import sin,cos,pi,e\n",
    "df=Derivative(sin)\n",
    "x=pi\n",
    "df(x)"
   ]
  },
  {
   "cell_type": "code",
   "execution_count": 3,
   "metadata": {},
   "outputs": [
    {
     "data": {
      "text/plain": [
       "-1.0"
      ]
     },
     "execution_count": 3,
     "metadata": {},
     "output_type": "execute_result"
    }
   ],
   "source": [
    "cos(x)"
   ]
  },
  {
   "cell_type": "code",
   "execution_count": 4,
   "metadata": {},
   "outputs": [],
   "source": [
    "def g(x):\n",
    "    return x**3"
   ]
  },
  {
   "cell_type": "code",
   "execution_count": 5,
   "metadata": {},
   "outputs": [
    {
     "data": {
      "text/plain": [
       "3.000030000110953"
      ]
     },
     "execution_count": 5,
     "metadata": {},
     "output_type": "execute_result"
    }
   ],
   "source": [
    "dg=Derivative(g)\n",
    "x=1\n",
    "dg(x)"
   ]
  },
  {
   "cell_type": "code",
   "execution_count": 6,
   "metadata": {},
   "outputs": [
    {
     "data": {
      "text/plain": [
       "-1.0000001028083867"
      ]
     },
     "execution_count": 6,
     "metadata": {},
     "output_type": "execute_result"
    }
   ],
   "source": [
    "riemann_sum(cos,pi/2,pi)"
   ]
  },
  {
   "cell_type": "code",
   "execution_count": null,
   "metadata": {},
   "outputs": [],
   "source": []
  }
 ],
 "metadata": {
  "kernelspec": {
   "display_name": "Python 3",
   "language": "python",
   "name": "python3"
  },
  "language_info": {
   "codemirror_mode": {
    "name": "ipython",
    "version": 3
   },
   "file_extension": ".py",
   "mimetype": "text/x-python",
   "name": "python",
   "nbconvert_exporter": "python",
   "pygments_lexer": "ipython3",
   "version": "3.6.5"
  }
 },
 "nbformat": 4,
 "nbformat_minor": 2
}
