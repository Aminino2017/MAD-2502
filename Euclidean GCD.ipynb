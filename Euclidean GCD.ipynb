{
 "cells": [
  {
   "cell_type": "code",
   "execution_count": 1,
   "metadata": {},
   "outputs": [],
   "source": [
    "#to compute gcd, have an itteration that checks the integers to find out what divides both\n",
    "#gcd can also be computed take one number, subtract the other number, the gcd hasnt changed\n",
    "#disceret math, take larger, subtract the smaller from it\n",
    "#euclidean algorithim\n",
    "def euclidean_gcd(a,b):\n",
    "    while b!= 0:  # != is not equal\n",
    "        t= b\n",
    "        b=a%b\n",
    "        a=t\n",
    "    return a"
   ]
  },
  {
   "cell_type": "code",
   "execution_count": null,
   "metadata": {},
   "outputs": [],
   "source": [
    "def gcd(a,b):\n",
    "    if b==0:\n",
    "        return a\n",
    "    else:\n",
    "        return gcd(b, a%b)  # a%b == a mod b"
   ]
  }
 ],
 "metadata": {
  "kernelspec": {
   "display_name": "Python 3",
   "language": "python",
   "name": "python3"
  },
  "language_info": {
   "codemirror_mode": {
    "name": "ipython",
    "version": 3
   },
   "file_extension": ".py",
   "mimetype": "text/x-python",
   "name": "python",
   "nbconvert_exporter": "python",
   "pygments_lexer": "ipython3",
   "version": "3.6.5"
  }
 },
 "nbformat": 4,
 "nbformat_minor": 2
}
