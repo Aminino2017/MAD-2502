{
 "cells": [
  {
   "cell_type": "markdown",
   "metadata": {},
   "source": [
    "# Multiplying Polynomials in Subquadratic Time\n",
    "\n",
    "## We are given two polynomials, say over $\\mathbb{R}$, each of degree $\\leq n-1$, i.e., we have a coefficient [....]\n",
    "\n",
    "\n",
    "## Obviously we can find the product with $n^{2}$ multiplications.\n",
    "\n",
    "# [Karatsuba's Approach](https://en.wikipedia.org/wiki/Karatsuba_algorithm):\n",
    "\n",
    "## Let the polynomial be:\n",
    "\n",
    "$$ f = F_{i} \\cdot \\, x^{\\frac{n}{2}} + F_{0} \\\\ \n",
    "g = G_{i} \\cdot x^{\\frac{n}{2}} + G_{0}\n",
    "\\\\ \\text{where } F_{0}, F_{1}, G_{0}, G_{1} \\text{ are of degree} < \\frac{n}{2} $$\n",
    "\n",
    "## Karatsuba computes:\n",
    "\n",
    "$$ F_{0} \\cdot G_{0}  \\\\\n",
    "F_{1} \\cdot G_{1} \\\\\n",
    "\\text{&} \\\\\n",
    " ( F_{0} + F_{1})  \\cdot (G_{0} +  G_{1})\n",
    "$$\n",
    "\n",
    "\n",
    "## From these we find \n",
    "\n",
    "$$\n",
    "f \\cdot g = F_{0} \\cdot G_{0} + F_{1} \\cdot G_{1} \\cdot x^{\\,n} + \\big( (F_{0}+  F_{1}) \\cdot (G_{0}+  G_{1}) - F_{0} G_{0}- F_{1}G_{1} \\big)x^{\\frac{n}{2}} \n",
    "$$\n",
    "\n",
    "## The running time of Karatsuba algorithm is $$ \\mathcal{O} \\, \\big(n^{\\log_{2}{3}} \\big)\\text{, i.e., faster than } \\mathcal{O} \\, (n^{2})  $$"
   ]
  },
  {
   "cell_type": "code",
   "execution_count": null,
   "metadata": {},
   "outputs": [],
   "source": []
  }
 ],
 "metadata": {
  "kernelspec": {
   "display_name": "Python 3",
   "language": "python",
   "name": "python3"
  },
  "language_info": {
   "codemirror_mode": {
    "name": "ipython",
    "version": 3
   },
   "file_extension": ".py",
   "mimetype": "text/x-python",
   "name": "python",
   "nbconvert_exporter": "python",
   "pygments_lexer": "ipython3",
   "version": "3.6.5"
  }
 },
 "nbformat": 4,
 "nbformat_minor": 2
}
