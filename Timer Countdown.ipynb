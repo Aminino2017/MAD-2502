{
 "cells": [
  {
   "cell_type": "markdown",
   "metadata": {},
   "source": [
    "Write a function countdown(n), which in 1-second intervals outputs n messages of the form \"n seconds to go\", \"n-1 seconds to go\", ..., \"2 seconds to go\", \"1 second to go\", and then returns the string \"Countdown finished.\" Your program must ensure that the countdown cannot be interrupted by pressing Ctrl-C.\n"
   ]
  },
  {
   "cell_type": "code",
   "execution_count": 1,
   "metadata": {},
   "outputs": [],
   "source": [
    "def countdown(n):\n",
    "    import time, random\n",
    "    sad=['Please stop that', 'This hurts', 'I would appreciate it if you let me do my job', 'Next time you have the urge to stop me, try not to', 'Okay, you are taking it a bit too far', 'I try to give you a respectable countdown. LET ME LIVE!', 'I could tell you how much time is left, but you are being difficult', 'Sometimes I think about what it would feel like to be alive. And then you do this to me and I realize it must be a disappointment', 'Any day now', 'No worries, keep doing your insulting command', 'You might be asking yourself, Gee, How did Amaury have time to write all this nonsense. The answer is that he doesnt get enough sleep', 'Q: Why did the chicken cross the road? A: The answer is trivial and is left as an exercise for the reader.']\n",
    "    r=n\n",
    "    s=len(sad)\n",
    "    while r>=0:\n",
    "        try:\n",
    "            print(r, 'seconds to go')\n",
    "            time.sleep(1)\n",
    "            r-=1\n",
    "        except KeyboardInterrupt:\n",
    "            l=random.randint(0,s)\n",
    "            print(sad[l])\n",
    "    return 'Countdown Finished'\n"
   ]
  }
 ],
 "metadata": {
  "kernelspec": {
   "display_name": "Python 3",
   "language": "python",
   "name": "python3"
  },
  "language_info": {
   "codemirror_mode": {
    "name": "ipython",
    "version": 3
   },
   "file_extension": ".py",
   "mimetype": "text/x-python",
   "name": "python",
   "nbconvert_exporter": "python",
   "pygments_lexer": "ipython3",
   "version": "3.6.5"
  }
 },
 "nbformat": 4,
 "nbformat_minor": 2
}
