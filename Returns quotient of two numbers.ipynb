{
 "cells": [
  {
   "cell_type": "code",
   "execution_count": null,
   "metadata": {},
   "outputs": [],
   "source": [
    "def quotient():\n",
    "    '''ask user for two numbers, output their quotient'''\n",
    "    while True:\n",
    "        a_try=input('Enter the Numerator:')\n",
    "        try:\n",
    "            a=int(a_try)\n",
    "            break\n",
    "        except ValueError:\n",
    "            print('Please input a number for the numerator')\n",
    "    while True:\n",
    "        try:\n",
    "            b=int(input('Enter the Denominator:'))\n",
    "            result= a/b\n",
    "            return result\n",
    "        except ZeroDivisionError:\n",
    "            print('That was not a valid denominator ')\n",
    "\n",
    "        except ValueError:\n",
    "            print('That wasnt a number')"
   ]
  }
 ],
 "metadata": {
  "kernelspec": {
   "display_name": "Python 3",
   "language": "python",
   "name": "python3"
  },
  "language_info": {
   "codemirror_mode": {
    "name": "ipython",
    "version": 3
   },
   "file_extension": ".py",
   "mimetype": "text/x-python",
   "name": "python",
   "nbconvert_exporter": "python",
   "pygments_lexer": "ipython3",
   "version": "3.6.5"
  }
 },
 "nbformat": 4,
 "nbformat_minor": 2
}
